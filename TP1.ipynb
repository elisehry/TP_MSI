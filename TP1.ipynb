{
 "cells": [
  {
   "cell_type": "markdown",
   "metadata": {},
   "source": [
    "# TP1 - MSI : Intervalles de confiance et tests d'hypothèses\n",
    "## Généralités"
   ]
  },
  {
   "cell_type": "code",
   "execution_count": 4,
   "metadata": {},
   "outputs": [],
   "source": [
    "path = \"/Users/henrye/Documents/MSI\"\n",
    "setwd(path)"
   ]
  },
  {
   "cell_type": "markdown",
   "metadata": {},
   "source": [
    "**Question 1 :** Lire le fichier"
   ]
  },
  {
   "cell_type": "code",
   "execution_count": 5,
   "metadata": {},
   "outputs": [
    {
     "data": {
      "text/plain": [
       "   row.names    pclass       survived                               name     \n",
       " Min.   :   1   1st:322   Min.   :0.000   Carlsson, Mr Frans Olof     :   2  \n",
       " 1st Qu.: 329   2nd:280   1st Qu.:0.000   Connolly, Miss Kate         :   2  \n",
       " Median : 657   3rd:711   Median :0.000   Kelly, Mr James             :   2  \n",
       " Mean   : 657             Mean   :0.342   Abbing, Mr Anthony          :   1  \n",
       " 3rd Qu.: 985             3rd Qu.:1.000   Abbott, Master Eugene Joseph:   1  \n",
       " Max.   :1313             Max.   :1.000   Abbott, Mr Rossmore Edward  :   1  \n",
       "                                          (Other)                     :1304  \n",
       "      age                 embarked                  home.dest        room     \n",
       " Min.   : 0.1667              :492                       :559          :1236  \n",
       " 1st Qu.:21.0000   Cherbourg  :203   New York, NY        : 65   F-33   :   4  \n",
       " Median :30.0000   Queenstown : 45   London              : 14   C-101  :   3  \n",
       " Mean   :31.1942   Southampton:573   Montreal, PQ        : 10   C26    :   3  \n",
       " 3rd Qu.:41.0000                     Cornwall / Akron, OH:  9   E-101  :   3  \n",
       " Max.   :71.0000                     Paris, France       :  9   B-18   :   2  \n",
       " NA's   :680                         (Other)             :647   (Other):  62  \n",
       "              ticket          boat         sex     \n",
       "                 :1244          :966   female:463  \n",
       " 17608 L262 7s 6d:   5   4      : 27   male  :850  \n",
       " 230136 L39      :   4   5      : 27               \n",
       " 13502 L77       :   3   7      : 22               \n",
       " 13529 L26 5s    :   3   3      : 19               \n",
       " 17582 L153 9s 3d:   3   8      : 18               \n",
       " (Other)         :  51   (Other):234               "
      ]
     },
     "metadata": {},
     "output_type": "display_data"
    }
   ],
   "source": [
    "data = read.csv('titanic.txt', sep=',')\n",
    "summary(data)"
   ]
  },
  {
   "cell_type": "markdown",
   "metadata": {},
   "source": [
    "**Question 2 :** \n",
    "* Lire des données manquantes "
   ]
  },
  {
   "cell_type": "code",
   "execution_count": 6,
   "metadata": {},
   "outputs": [
    {
     "data": {
      "text/html": [
       "'Nombre dage de passagers manquant : 680'"
      ],
      "text/latex": [
       "'Nombre dage de passagers manquant : 680'"
      ],
      "text/markdown": [
       "'Nombre dage de passagers manquant : 680'"
      ],
      "text/plain": [
       "[1] \"Nombre dage de passagers manquant : 680\""
      ]
     },
     "metadata": {},
     "output_type": "display_data"
    }
   ],
   "source": [
    "paste('Nombre dage de passagers manquant :', sum(is.na(data$age))) # Les données manquantes sont soient vide soient égales à NA"
   ]
  },
  {
   "cell_type": "markdown",
   "metadata": {},
   "source": [
    "* Nombre de passagers recensés"
   ]
  },
  {
   "cell_type": "code",
   "execution_count": 7,
   "metadata": {},
   "outputs": [
    {
     "data": {
      "text/html": [
       "'Nombre de passagers recensés : 1313'"
      ],
      "text/latex": [
       "'Nombre de passagers recensés : 1313'"
      ],
      "text/markdown": [
       "'Nombre de passagers recensés : 1313'"
      ],
      "text/plain": [
       "[1] \"Nombre de passagers recensés : 1313\""
      ]
     },
     "metadata": {},
     "output_type": "display_data"
    }
   ],
   "source": [
    "paste('Nombre de passagers recensés :', nrow(data))"
   ]
  },
  {
   "cell_type": "markdown",
   "metadata": {},
   "source": [
    "* Nombre de passagers survivants"
   ]
  },
  {
   "cell_type": "code",
   "execution_count": 8,
   "metadata": {},
   "outputs": [
    {
     "data": {
      "text/html": [
       "'Nombre de passagers survivants : 449'"
      ],
      "text/latex": [
       "'Nombre de passagers survivants : 449'"
      ],
      "text/markdown": [
       "'Nombre de passagers survivants : 449'"
      ],
      "text/plain": [
       "[1] \"Nombre de passagers survivants : 449\""
      ]
     },
     "metadata": {},
     "output_type": "display_data"
    }
   ],
   "source": [
    "paste('Nombre de passagers survivants :', sum(data$survived))"
   ]
  },
  {
   "cell_type": "markdown",
   "metadata": {},
   "source": [
    "* Ports d'embarquements"
   ]
  },
  {
   "cell_type": "code",
   "execution_count": 9,
   "metadata": {},
   "outputs": [
    {
     "data": {
      "text/html": [
       "<ol class=list-inline>\n",
       "\t<li>''</li>\n",
       "\t<li>'Cherbourg'</li>\n",
       "\t<li>'Queenstown'</li>\n",
       "\t<li>'Southampton'</li>\n",
       "</ol>\n"
      ],
      "text/latex": [
       "\\begin{enumerate*}\n",
       "\\item ''\n",
       "\\item 'Cherbourg'\n",
       "\\item 'Queenstown'\n",
       "\\item 'Southampton'\n",
       "\\end{enumerate*}\n"
      ],
      "text/markdown": [
       "1. ''\n",
       "2. 'Cherbourg'\n",
       "3. 'Queenstown'\n",
       "4. 'Southampton'\n",
       "\n",
       "\n"
      ],
      "text/plain": [
       "[1] \"\"            \"Cherbourg\"   \"Queenstown\"  \"Southampton\""
      ]
     },
     "metadata": {},
     "output_type": "display_data"
    }
   ],
   "source": [
    "levels(data$embarked)"
   ]
  },
  {
   "cell_type": "markdown",
   "metadata": {},
   "source": [
    "**Question 3 :** Répartition des passagers par classe"
   ]
  },
  {
   "cell_type": "code",
   "execution_count": 10,
   "metadata": {},
   "outputs": [
    {
     "data": {
      "image/png": "[encoded data removed]",
      "text/plain": [
       "Plot with title “Répartition des passagers par classe”"
      ]
     },
     "metadata": {},
     "output_type": "display_data",
     "source": "R display func"
    }
   ],
   "source": [
    "values = table(data$pclass)\n",
    "pie(values, main='Répartition des passagers par classe', cex=0.8)"
   ]
  },
  {
   "cell_type": "markdown",
   "metadata": {},
   "source": [
    "**Question 4 :** Construction de variables bolééennes"
   ]
  },
  {
   "cell_type": "code",
   "execution_count": 11,
   "metadata": {},
   "outputs": [],
   "source": [
    "Prem_class = data$pclass == '1st'\n",
    "Sec_class = data$pclass == '2nd'\n",
    "Ter_class = data$pclass == '3rd'"
   ]
  },
  {
   "cell_type": "markdown",
   "metadata": {},
   "source": [
    "**Question 5 :** Proportion de survivants suivant les classes"
   ]
  },
  {
   "cell_type": "code",
   "execution_count": 12,
   "metadata": {},
   "outputs": [
    {
     "data": {
      "text/html": [
       "'1ère classe : 0.599378881987578'"
      ],
      "text/latex": [
       "'1ère classe : 0.599378881987578'"
      ],
      "text/markdown": [
       "'1ère classe : 0.599378881987578'"
      ],
      "text/plain": [
       "[1] \"1ère classe : 0.599378881987578\""
      ]
     },
     "metadata": {},
     "output_type": "display_data"
    },
    {
     "data": {
      "text/html": [
       "'2ème classe : 0.425'"
      ],
      "text/latex": [
       "'2ème classe : 0.425'"
      ],
      "text/markdown": [
       "'2ème classe : 0.425'"
      ],
      "text/plain": [
       "[1] \"2ème classe : 0.425\""
      ]
     },
     "metadata": {},
     "output_type": "display_data"
    },
    {
     "data": {
      "text/html": [
       "'3ème classe : 0.192686357243319'"
      ],
      "text/latex": [
       "'3ème classe : 0.192686357243319'"
      ],
      "text/markdown": [
       "'3ème classe : 0.192686357243319'"
      ],
      "text/plain": [
       "[1] \"3ème classe : 0.192686357243319\""
      ]
     },
     "metadata": {},
     "output_type": "display_data"
    }
   ],
   "source": [
    "paste('1ère classe :', sum(data$survived[Prem_class])/nrow(data[Prem_class, ]))\n",
    "paste('2ème classe :', sum(data$survived[Sec_class])/nrow(data[Sec_class, ]))\n",
    "paste('3ème classe :', sum(data$survived[Ter_class])/nrow(data[Ter_class, ]))"
   ]
  },
  {
   "cell_type": "markdown",
   "metadata": {},
   "source": [
    "**Question 6 :** Age moyen par classe"
   ]
  },
  {
   "cell_type": "code",
   "execution_count": 13,
   "metadata": {},
   "outputs": [
    {
     "data": {
      "text/html": [
       "'1ère classe : 39.6677730088496'"
      ],
      "text/latex": [
       "'1ère classe : 39.6677730088496'"
      ],
      "text/markdown": [
       "'1ère classe : 39.6677730088496'"
      ],
      "text/plain": [
       "[1] \"1ère classe : 39.6677730088496\""
      ]
     },
     "metadata": {},
     "output_type": "display_data"
    },
    {
     "data": {
      "text/html": [
       "'2ème classe : 28.3003141509434'"
      ],
      "text/latex": [
       "'2ème classe : 28.3003141509434'"
      ],
      "text/markdown": [
       "'2ème classe : 28.3003141509434'"
      ],
      "text/plain": [
       "[1] \"2ème classe : 28.3003141509434\""
      ]
     },
     "metadata": {},
     "output_type": "display_data"
    },
    {
     "data": {
      "text/html": [
       "'3ème classe : 24.5196579487179'"
      ],
      "text/latex": [
       "'3ème classe : 24.5196579487179'"
      ],
      "text/markdown": [
       "'3ème classe : 24.5196579487179'"
      ],
      "text/plain": [
       "[1] \"3ème classe : 24.5196579487179\""
      ]
     },
     "metadata": {},
     "output_type": "display_data"
    },
    {
     "data": {
      "image/png": "[encoded data removed]",
      "text/plain": [
       "Plot with title “Age moyen par classe”"
      ]
     },
     "metadata": {},
     "output_type": "display_data",
     "source": "R display func"
    }
   ],
   "source": [
    "age1 = mean(data$age[Prem_class], na.rm=TRUE)\n",
    "age2 = mean(data$age[Sec_class], na.rm=TRUE)\n",
    "age3 = mean(data$age[Ter_class], na.rm=TRUE)\n",
    "\n",
    "paste('1ère classe :', age1)\n",
    "paste('2ème classe :', age2)\n",
    "paste('3ème classe :', age3)\n",
    "\n",
    "boxplot(age1, age2, age3, names=c('1ère classe', '2ème classe', '3ème classe'), main='Age moyen par classe', cex.names=0.8, cex.axis=0.8)"
   ]
  },
  {
   "cell_type": "markdown",
   "metadata": {},
   "source": [
    "## Estimation"
   ]
  },
  {
   "cell_type": "markdown",
   "metadata": {},
   "source": [
    "**Question 7 :** Age répartit selon une loi normale de paramètres inconnus"
   ]
  },
  {
   "cell_type": "code",
   "execution_count": 14,
   "metadata": {},
   "outputs": [
    {
     "data": {
      "image/png": "[encoded data removed]",
      "text/plain": [
       "Plot with title “Histogramme des âges”"
      ]
     },
     "metadata": {},
     "output_type": "display_data",
     "source": "R display func"
    }
   ],
   "source": [
    "x_barre = mean(data$age, na.rm=TRUE)\n",
    "s_carree = sd(data$age, na.rm=TRUE)\n",
    "# Plot de la répartition des valeurs effectives prises par la variable (histogramme)\n",
    "hist(data$age,freq=FALSE,border=\"blue\", col=\"lightblue\", xlab=\"Fertilité\", ylab=\"Densité\", main=\"Histogramme des âges\", cex.axis=0.8, cex.lab=0.8)\n",
    "# Plot de la courb suivie par la loie normale (lwd détermine l'épaisseur du trait)\n",
    "curve(dnorm(x,x_barre,s_carree),add=TRUE,col=\"red\",lwd=3) "
   ]
  },
  {
   "cell_type": "markdown",
   "metadata": {},
   "source": [
    "**Question 8 :** Intervalle de confiance"
   ]
  },
  {
   "cell_type": "code",
   "execution_count": 15,
   "metadata": {},
   "outputs": [
    {
     "data": {
      "text/html": [
       "<ol class=list-inline>\n",
       "\t<li>30.0431212420957</li>\n",
       "\t<li>32.3452408432124</li>\n",
       "</ol>\n"
      ],
      "text/latex": [
       "\\begin{enumerate*}\n",
       "\\item 30.0431212420957\n",
       "\\item 32.3452408432124\n",
       "\\end{enumerate*}\n"
      ],
      "text/markdown": [
       "1. 30.0431212420957\n",
       "2. 32.3452408432124\n",
       "\n",
       "\n"
      ],
      "text/plain": [
       "[1] 30.04312 32.34524"
      ]
     },
     "metadata": {},
     "output_type": "display_data"
    }
   ],
   "source": [
    "n = sum(!is.na(data$age));\n",
    "t = qt(p = 0.975, df = n-1) # alpa = 5%\n",
    "inf = x_barre - t*s_carree/sqrt(n) # /!\\ on obtient s* et pas s, donc sqrt(n) et pas sqrt(n-1)\n",
    "sup = x_barre + t*s_carree/sqrt(n)\n",
    "IC = c(inf, sup)\n",
    "IC"
   ]
  },
  {
   "cell_type": "markdown",
   "metadata": {},
   "source": [
    "L’âge moyen d’un passager à bord du Titanic est compris entre 30,04 ans et 32,35 ans"
   ]
  },
  {
   "cell_type": "markdown",
   "metadata": {},
   "source": [
    "## Test d'hypothèses\n",
    "**Question 9 :** Vérification de l'hypothèses : \"age suit une loi normale\" avec un risue alpha = 1%"
   ]
  },
  {
   "cell_type": "code",
   "execution_count": 16,
   "metadata": {},
   "outputs": [
    {
     "data": {
      "text/plain": [
       "\n",
       "\tShapiro-Wilk normality test\n",
       "\n",
       "data:  data$age\n",
       "W = 0.98264, p-value = 7.771e-07\n"
      ]
     },
     "metadata": {},
     "output_type": "display_data"
    }
   ],
   "source": [
    "alpha = 0.01\n",
    "# Le test de Shapiro-Wilk est un test permettant de savoir si une série de données suit une loi normale\n",
    "age_norm = shapiro.test(data$age)\n",
    "age_norm"
   ]
  },
  {
   "cell_type": "code",
   "execution_count": 17,
   "metadata": {},
   "outputs": [
    {
     "name": "stdout",
     "output_type": "stream",
     "text": [
      "[1] \"H0 rejeté\"\n"
     ]
    }
   ],
   "source": [
    "if (age_norm$p.value>alpha){\n",
    "  print(\"H0 accepté\")\n",
    "} else {\n",
    "  print(\"H0 rejeté\")\n",
    "}"
   ]
  },
  {
   "cell_type": "markdown",
   "metadata": {},
   "source": [
    "Même question seuleent pour les passagers de 1ère classe"
   ]
  },
  {
   "cell_type": "code",
   "execution_count": 18,
   "metadata": {},
   "outputs": [
    {
     "data": {
      "text/plain": [
       "\n",
       "\tShapiro-Wilk normality test\n",
       "\n",
       "data:  data$age[Prem_class]\n",
       "W = 0.98537, p-value = 0.02003\n"
      ]
     },
     "metadata": {},
     "output_type": "display_data"
    }
   ],
   "source": [
    "alpha = 0.01\n",
    "# Le test de Shapiro-Wilk est un test permettant de savoir si une série de données suit une loi normale\n",
    "age1_norm = shapiro.test(data$age[Prem_class])\n",
    "age1_norm"
   ]
  },
  {
   "cell_type": "code",
   "execution_count": 19,
   "metadata": {},
   "outputs": [
    {
     "name": "stdout",
     "output_type": "stream",
     "text": [
      "[1] \"H0 accepté\"\n"
     ]
    }
   ],
   "source": [
    "if (age1_norm$p.value>alpha){\n",
    "  print(\"H0 accepté\")\n",
    "} else {\n",
    "  print(\"H0 rejeté\")\n",
    "}"
   ]
  },
  {
   "cell_type": "markdown",
   "metadata": {},
   "source": [
    "La distribution de l’âge des passagers ne suit pas une loi normale avec un risque de 1% contrairement à la répartition des âges des passagers de 1ère classe uniquement."
   ]
  },
  {
   "cell_type": "markdown",
   "metadata": {},
   "source": [
    "**Question 10 :** Test unilatéral gauche sur l'âge moyen avec sigma inconnu -> la fonction pivot suit une loi de student à n-1 degrés de liberté"
   ]
  },
  {
   "cell_type": "code",
   "execution_count": 20,
   "metadata": {},
   "outputs": [
    {
     "data": {
      "text/plain": [
       "\n",
       "\tOne Sample t-test\n",
       "\n",
       "data:  data$age[Prem_class]\n",
       "t = -0.33452, df = 225, p-value = 0.7383\n",
       "alternative hypothesis: true mean is not equal to 40\n",
       "95 percent confidence interval:\n",
       " 37.71069 41.62485\n",
       "sample estimates:\n",
       "mean of x \n",
       " 39.66777 \n"
      ]
     },
     "metadata": {},
     "output_type": "display_data"
    }
   ],
   "source": [
    "alpha = 0.05\n",
    "m0 = 40\n",
    "test_chi_deux = t.test(data$age[Prem_class], mu=m0)\n",
    "test_chi_deux"
   ]
  },
  {
   "cell_type": "code",
   "execution_count": 21,
   "metadata": {},
   "outputs": [
    {
     "name": "stdout",
     "output_type": "stream",
     "text": [
      "[1] \"H0 accepté\"\n"
     ]
    }
   ],
   "source": [
    "if (test_chi_deux$p.value>alpha){ \n",
    "  print(\"H0 accepté\")\n",
    "} else {\n",
    "  print(\"H0 rejeté\")\n",
    "}"
   ]
  },
  {
   "cell_type": "markdown",
   "metadata": {},
   "source": [
    "Compte-tenu des valeurs manquantes, on peut supposer, avec un risque à 5%, que la 1ère classe du Titanic avait une moyenne d’âge au moins égale à 40 ans"
   ]
  },
  {
   "cell_type": "markdown",
   "metadata": {},
   "source": [
    "**Question 11 :** Puissance d'un test"
   ]
  },
  {
   "cell_type": "markdown",
   "metadata": {},
   "source": [
    "* Puissance du test précédent"
   ]
  },
  {
   "cell_type": "code",
   "execution_count": 22,
   "metadata": {},
   "outputs": [
    {
     "data": {
      "text/html": [
       "14.9304401423617"
      ],
      "text/latex": [
       "14.9304401423617"
      ],
      "text/markdown": [
       "14.9304401423617"
      ],
      "text/plain": [
       "[1] 14.93044"
      ]
     },
     "metadata": {},
     "output_type": "display_data"
    },
    {
     "data": {
      "text/plain": [
       "\n",
       "     One-sample t test power calculation \n",
       "\n",
       "              n = 322\n",
       "          delta = 10\n",
       "             sd = 16\n",
       "      sig.level = 0.05\n",
       "          power = 1\n",
       "    alternative = one.sided\n"
      ]
     },
     "metadata": {},
     "output_type": "display_data"
    }
   ],
   "source": [
    "sd(data$age[Prem_class], na.rm =TRUE)\n",
    "m1 = 30;\n",
    "power.t.test(n = nrow(data[Prem_class,]), sd= 16, delta=m0-m1 , sig.level = 0.05, type = 'one.sample', alternative=\"one.sided\")"
   ]
  },
  {
   "cell_type": "markdown",
   "metadata": {},
   "source": [
    "* Nombre d'individu nécessaire pour avoir une puissance de 80%"
   ]
  },
  {
   "cell_type": "code",
   "execution_count": 23,
   "metadata": {},
   "outputs": [
    {
     "data": {
      "text/plain": [
       "\n",
       "     One-sample t test power calculation \n",
       "\n",
       "              n = 17.26351\n",
       "          delta = 10\n",
       "             sd = 16\n",
       "      sig.level = 0.05\n",
       "          power = 0.8\n",
       "    alternative = one.sided\n"
      ]
     },
     "metadata": {},
     "output_type": "display_data"
    }
   ],
   "source": [
    "power.t.test(power=0.8, sd= 16, delta=m0-m1 , sig.level = 0.05, type = 'one.sample', alternative=\"one.sided\")"
   ]
  },
  {
   "cell_type": "markdown",
   "metadata": {},
   "source": [
    "* Nombre d'individu nécessaire pour avoir une puissance de 50%"
   ]
  },
  {
   "cell_type": "code",
   "execution_count": 24,
   "metadata": {},
   "outputs": [
    {
     "data": {
      "text/plain": [
       "\n",
       "     One-sample t test power calculation \n",
       "\n",
       "              n = 8.410386\n",
       "          delta = 10\n",
       "             sd = 16\n",
       "      sig.level = 0.05\n",
       "          power = 0.5\n",
       "    alternative = one.sided\n"
      ]
     },
     "metadata": {},
     "output_type": "display_data"
    }
   ],
   "source": [
    "power.t.test(power=0.5, sd= 16, delta=m0-m1 , sig.level = 0.05, type = 'one.sample', alternative=\"one.sided\")"
   ]
  },
  {
   "cell_type": "markdown",
   "metadata": {},
   "source": [
    "* Ecart de moyenne détectable avec une puissance de 99%"
   ]
  },
  {
   "cell_type": "code",
   "execution_count": 25,
   "metadata": {},
   "outputs": [
    {
     "data": {
      "text/plain": [
       "\n",
       "     One-sample t test power calculation \n",
       "\n",
       "              n = 322\n",
       "          delta = 3.548391\n",
       "             sd = 16\n",
       "      sig.level = 0.05\n",
       "          power = 0.99\n",
       "    alternative = one.sided\n"
      ]
     },
     "metadata": {},
     "output_type": "display_data"
    }
   ],
   "source": [
    "power.t.test(n = nrow(data[Prem_class,]), sd= 16, power=0.99 , sig.level = 0.05, type = 'one.sample', alternative=\"one.sided\")"
   ]
  },
  {
   "cell_type": "markdown",
   "metadata": {},
   "source": [
    "**Question 12 :** Répartition homme/femme sur le bateau"
   ]
  },
  {
   "cell_type": "code",
   "execution_count": 26,
   "metadata": {},
   "outputs": [
    {
     "data": {
      "text/plain": [
       "\n",
       "female   male \n",
       "   463    850 "
      ]
     },
     "metadata": {},
     "output_type": "display_data"
    }
   ],
   "source": [
    "table(data$sex)"
   ]
  },
  {
   "cell_type": "code",
   "execution_count": 31,
   "metadata": {},
   "outputs": [
    {
     "data": {
      "text/html": [
       "'Prop de femmes : 0.352627570449353'"
      ],
      "text/latex": [
       "'Prop de femmes : 0.352627570449353'"
      ],
      "text/markdown": [
       "'Prop de femmes : 0.352627570449353'"
      ],
      "text/plain": [
       "[1] \"Prop de femmes : 0.352627570449353\""
      ]
     },
     "metadata": {},
     "output_type": "display_data"
    }
   ],
   "source": [
    "p0 = prop.table(table(data$sex))['female']\n",
    "paste('Prop de femmes :', p0)"
   ]
  },
  {
   "cell_type": "code",
   "execution_count": 32,
   "metadata": {},
   "outputs": [
    {
     "data": {
      "text/html": [
       "'Prop de femmes ayant survécues : 0.683741648106904'"
      ],
      "text/latex": [
       "'Prop de femmes ayant survécues : 0.683741648106904'"
      ],
      "text/markdown": [
       "'Prop de femmes ayant survécues : 0.683741648106904'"
      ],
      "text/plain": [
       "[1] \"Prop de femmes ayant survécues : 0.683741648106904\""
      ]
     },
     "metadata": {},
     "output_type": "display_data"
    }
   ],
   "source": [
    "f = prop.table(table(data$sex[data$survived==1]))['female']\n",
    "paste('Prop de femmes ayant survécues :', f)"
   ]
  },
  {
   "cell_type": "markdown",
   "metadata": {},
   "source": [
    "**Question 13 :** Les femmes ont-elles été embarquées en priorité sur les canaux (i.e : les femmes ont survécu) ? \n",
    "Test unilatéral gauche: \n",
    "H0 : p ≥ p0 \n",
    "H1: p < p0 \n",
    "où p0 : prop des femmes et p = f : prop des femmes qui ont survécu"
   ]
  },
  {
   "cell_type": "code",
   "execution_count": 33,
   "metadata": {},
   "outputs": [
    {
     "name": "stdout",
     "output_type": "stream",
     "text": [
      "[1] \"H0 accepté : les femmes ont été embarquées en priorité sur les canaux\"\n"
     ]
    }
   ],
   "source": [
    "alpha = 0.01\n",
    "n = nrow(data)\n",
    "u = qnorm(alpha)\n",
    "h = p0 + u*sqrt(p0*(1-p0)/n) \n",
    "if (f>h){ \n",
    "  print(\"H0 accepté : les femmes ont été embarquées en priorité sur les canaux\")\n",
    "} else {\n",
    "  print(\"H0 rejeté\")\n",
    "}"
   ]
  },
  {
   "cell_type": "markdown",
   "metadata": {},
   "source": [
    "**Question 14 :** Construction d'une table de contingence des survivants par classe."
   ]
  },
  {
   "cell_type": "code",
   "execution_count": 46,
   "metadata": {},
   "outputs": [
    {
     "data": {
      "text/plain": [
       "   \n",
       "    1st 2nd 3rd\n",
       "  0 129 161 574\n",
       "  1 193 119 137"
      ]
     },
     "metadata": {},
     "output_type": "display_data"
    }
   ],
   "source": [
    "ClassXSurvie = table( data$survived, data$pclass)\n",
    "ClassXSurvie"
   ]
  },
  {
   "cell_type": "markdown",
   "metadata": {},
   "source": [
    "La survie est-elle indépendante de la classe ?\n",
    "Test du chi deux : Indépendance de variables"
   ]
  },
  {
   "cell_type": "code",
   "execution_count": 49,
   "metadata": {},
   "outputs": [
    {
     "data": {
      "text/plain": [
       "\n",
       "\tPearson's Chi-squared test\n",
       "\n",
       "data:  ClassXSurvie\n",
       "X-squared = 173.81, df = 2, p-value < 2.2e-16\n"
      ]
     },
     "metadata": {},
     "output_type": "display_data"
    }
   ],
   "source": [
    "chisq.test(ClassXSurvie)"
   ]
  },
  {
   "cell_type": "markdown",
   "metadata": {},
   "source": [
    "Est-ce encore vrai avec la population féminine ?\n",
    "Test du chi deux : Indépendance de variables"
   ]
  },
  {
   "cell_type": "code",
   "execution_count": 53,
   "metadata": {},
   "outputs": [
    {
     "data": {
      "text/plain": [
       "   \n",
       "    1st 2nd 3rd\n",
       "  0   9  13 134\n",
       "  1 134  94  79"
      ]
     },
     "metadata": {},
     "output_type": "display_data"
    }
   ],
   "source": [
    "ClassXSurvieXFemme = table( data$survived[data$sex=='female'], data$pclass[data$sex=='female'])\n",
    "ClassXSurvieXFemme"
   ]
  },
  {
   "cell_type": "code",
   "execution_count": 54,
   "metadata": {},
   "outputs": [
    {
     "data": {
      "text/plain": [
       "\n",
       "\tPearson's Chi-squared test\n",
       "\n",
       "data:  ClassXSurvieXFemme\n",
       "X-squared = 151.67, df = 2, p-value < 2.2e-16\n"
      ]
     },
     "metadata": {},
     "output_type": "display_data"
    }
   ],
   "source": [
    "chisq.test(ClassXSurvieXFemme)"
   ]
  },
  {
   "cell_type": "markdown",
   "metadata": {},
   "source": [
    "Autre test possible : test de Fisher exact qui permet de tester si les fréquences entières observées sur 2 échantillons sont identiques ou non, même si les effectifs sont trop faibles pour un test du Chi2 (test d'un tableau de contigence)."
   ]
  },
  {
   "cell_type": "code",
   "execution_count": 58,
   "metadata": {},
   "outputs": [
    {
     "data": {
      "text/plain": [
       "\n",
       "\tFisher's Exact Test for Count Data\n",
       "\n",
       "data:  ClassXSurvie\n",
       "p-value < 2.2e-16\n",
       "alternative hypothesis: two.sided\n"
      ]
     },
     "metadata": {},
     "output_type": "display_data"
    }
   ],
   "source": [
    "fisher.test(ClassXSurvie)"
   ]
  },
  {
   "cell_type": "code",
   "execution_count": 59,
   "metadata": {},
   "outputs": [
    {
     "data": {
      "text/plain": [
       "\n",
       "\tFisher's Exact Test for Count Data\n",
       "\n",
       "data:  ClassXSurvieXFemme\n",
       "p-value < 2.2e-16\n",
       "alternative hypothesis: two.sided\n"
      ]
     },
     "metadata": {},
     "output_type": "display_data"
    }
   ],
   "source": [
    "fisher.test(ClassXSurvieXFemme)"
   ]
  },
  {
   "cell_type": "markdown",
   "metadata": {},
   "source": [
    "**Question 15 :** Destination du couple Silvey"
   ]
  },
  {
   "cell_type": "code",
   "execution_count": 71,
   "metadata": {},
   "outputs": [
    {
     "data": {
      "text/html": [
       "<ol class=list-inline>\n",
       "\t<li>Duluth, MN</li>\n",
       "\t<li>Duluth, MN</li>\n",
       "</ol>\n",
       "\n",
       "<details>\n",
       "\t<summary style=display:list-item;cursor:pointer>\n",
       "\t\t<strong>Levels</strong>:\n",
       "\t</summary>\n",
       "\t<ol class=list-inline>\n",
       "\t\t<li>''</li>\n",
       "\t\t<li>'?Havana, Cuba'</li>\n",
       "\t\t<li>'Aberdeen / Portland, OR'</li>\n",
       "\t\t<li>'Albany, NY'</li>\n",
       "\t\t<li>'Altdorf, Switzerland'</li>\n",
       "\t\t<li>'Amenia, ND'</li>\n",
       "\t\t<li>'Antwerp, Belgium / Stanton, OH'</li>\n",
       "\t\t<li>'Argentina'</li>\n",
       "\t\t<li>'Asarum, Sweden Brooklyn, NY'</li>\n",
       "\t\t<li>'Ascot, Berkshire / Rochester, NY'</li>\n",
       "\t\t<li>'Auburn, NY'</li>\n",
       "\t\t<li>'Aughnacliff, Co Longford, Ireland New York, NY'</li>\n",
       "\t\t<li>'Australia Fingal, ND'</li>\n",
       "\t\t<li>'Austria'</li>\n",
       "\t\t<li>'Austria Niagara Falls, NY'</li>\n",
       "\t\t<li>'Austria-Hungary'</li>\n",
       "\t\t<li>'Austria-Hungary / Germantown, Philadelphia, PA'</li>\n",
       "\t\t<li>'Ballydehob, Co Cork, Ireland New York, NY'</li>\n",
       "\t\t<li>'Bangkok, Thailand / Roseville, IL'</li>\n",
       "\t\t<li>'Barcelona, Spain / Havana, Cuba'</li>\n",
       "\t\t<li>'Barre, Co Washington, VT'</li>\n",
       "\t\t<li>'Basel, Switzerland'</li>\n",
       "\t\t<li>'Bath, England / Massachusetts'</li>\n",
       "\t\t<li>'Bayside, Queens, NY'</li>\n",
       "\t\t<li>'Belfast'</li>\n",
       "\t\t<li>'Belfast, NI'</li>\n",
       "\t\t<li><span style=white-space:pre-wrap>'Belgium  Montreal, PQ'</span></li>\n",
       "\t\t<li>'Belgium Detroit, MI'</li>\n",
       "\t\t<li>'Belmont, MA'</li>\n",
       "\t\t<li>'Bennington, VT'</li>\n",
       "\t\t<li>'Bergen, Norway'</li>\n",
       "\t\t<li>'Berne, Switzerland / Central City, IA'</li>\n",
       "\t\t<li>'Birkdale, England Cleveland, Ohio'</li>\n",
       "\t\t<li>'Bishopstoke, Hants / Fayette Valley, ID'</li>\n",
       "\t\t<li>'Boston, MA'</li>\n",
       "\t\t<li>'Bournemouth, England'</li>\n",
       "\t\t<li>'Bournemouth, England Newark, NJ'</li>\n",
       "\t\t<li>'Bournmouth, England'</li>\n",
       "\t\t<li>'Brennes, Norway New York'</li>\n",
       "\t\t<li>'Bridgerule, Devon'</li>\n",
       "\t\t<li>'Bridgwater, Somerset, England'</li>\n",
       "\t\t<li>'Brighton, MA'</li>\n",
       "\t\t<li>'Brighton, Sussex'</li>\n",
       "\t\t<li>'Bristol, Avon / Jacksonville, FL'</li>\n",
       "\t\t<li>'Bristol, England / New Britain, CT'</li>\n",
       "\t\t<li>'Bristol, England Cleveland, OH'</li>\n",
       "\t\t<li>'Brockton, MA'</li>\n",
       "\t\t<li>'Bromsgrove, England / Montreal, PQ'</li>\n",
       "\t\t<li>'Bronx, NY'</li>\n",
       "\t\t<li>'Brookline, MA'</li>\n",
       "\t\t<li>'Brooklyn, NY'</li>\n",
       "\t\t<li>'Broomfield, Chelmsford, England'</li>\n",
       "\t\t<li>'Brunswick, ME'</li>\n",
       "\t\t<li>'Bryn Mawr, PA'</li>\n",
       "\t\t<li>'Bryn Mawr, PA, USA'</li>\n",
       "\t\t<li>'Buenos Aires, Argentina / New Jersey, NJ'</li>\n",
       "\t\t<li>'Buffalo, NY'</li>\n",
       "\t\t<li>'Bulgaria Chicago, IL'</li>\n",
       "\t\t<li>'Bulgaria Coon Rapids, IA'</li>\n",
       "\t\t<li>'Calgary, AB'</li>\n",
       "\t\t<li>'Cambridge, MA'</li>\n",
       "\t\t<li>'Cape Town, South Africa / Seattle, WA'</li>\n",
       "\t\t<li>'Catford, Kent / Detroit, MI'</li>\n",
       "\t\t<li>'Chelsea, London'</li>\n",
       "\t\t<li>'Chicago, IL'</li>\n",
       "\t\t<li>'Cincinatti, OH'</li>\n",
       "\t\t<li>'Clevedon, England'</li>\n",
       "\t\t<li>'Co Athlone, Ireland New York, NY'</li>\n",
       "\t\t<li>'Co Clare, Ireland Washington, DC'</li>\n",
       "\t\t<li>'Co Cork, Ireland Charlestown, MA'</li>\n",
       "\t\t<li>'Co Cork, Ireland Roxbury, MA'</li>\n",
       "\t\t<li>'Co Limerick, Ireland Sherbrooke, PQ'</li>\n",
       "\t\t<li>'Co Longford, Ireland New York, NY'</li>\n",
       "\t\t<li>'Co Sligo, Ireland Hartford, CT'</li>\n",
       "\t\t<li>'Co Sligo, Ireland New York, NY'</li>\n",
       "\t\t<li>'Cologne, Germany'</li>\n",
       "\t\t<li>'Columbus, OH'</li>\n",
       "\t\t<li>'Cooperstown, NY'</li>\n",
       "\t\t<li>'Copenhagen, Denmark'</li>\n",
       "\t\t<li>'Cornwall'</li>\n",
       "\t\t<li>'Cornwall / Akron, OH'</li>\n",
       "\t\t<li>'Cornwall / Camden, NJ'</li>\n",
       "\t\t<li>'Cornwall / Clear Creek, CO'</li>\n",
       "\t\t<li>'Cornwall / Hancock, MI'</li>\n",
       "\t\t<li>'Cornwall / Houghton, MI'</li>\n",
       "\t\t<li>'Cornwall / Spokane, WA'</li>\n",
       "\t\t<li>'Cornwall, England Houghton, MI'</li>\n",
       "\t\t<li>'Croatia'</li>\n",
       "\t\t<li>'Dagsas, Sweden Fower, MN'</li>\n",
       "\t\t<li>'Deephaven, MN / Cedar Rapids, IA'</li>\n",
       "\t\t<li>'Deer Lodge, MT'</li>\n",
       "\t\t<li>'Denmark / New York, NY'</li>\n",
       "\t\t<li>'Denmark Hill, Surrey / Chicago'</li>\n",
       "\t\t<li>'Denver, CO'</li>\n",
       "\t\t<li>'Detroit, MI'</li>\n",
       "\t\t<li>'Devon, England Wichita, KS'</li>\n",
       "\t\t<li>'Devonport, England'</li>\n",
       "\t\t<li>'Dorchester, MA'</li>\n",
       "\t\t<li>'Dorking, Surrey, England'</li>\n",
       "\t\t<li>'Dowagiac, MI'</li>\n",
       "\t\t<li>'Duluth, MN'</li>\n",
       "\t\t<li>'East Bridgewater, MA'</li>\n",
       "\t\t<li>'East Orange, NJ'</li>\n",
       "\t\t<li>'East Providence, RI'</li>\n",
       "\t\t<li>'Effington Rut, SD'</li>\n",
       "\t\t<li>'Elizabeth, NJ'</li>\n",
       "\t\t<li>'Elkins Park, PA'</li>\n",
       "\t\t<li>'Elmira, NY / Orange, NJ'</li>\n",
       "\t\t<li>'England'</li>\n",
       "\t\t<li>'England / Bennington, VT'</li>\n",
       "\t\t<li>'England / Detroit, MI'</li>\n",
       "\t\t<li>'England / Hartford, CT'</li>\n",
       "\t\t<li>'England / Philadelphia, PA'</li>\n",
       "\t\t<li>'England / Sacramento, CA'</li>\n",
       "\t\t<li>'England / San Francisco, CA'</li>\n",
       "\t\t<li>'England Albion, NY'</li>\n",
       "\t\t<li>'England Brooklyn, NY'</li>\n",
       "\t\t<li>'England New York, NY'</li>\n",
       "\t\t<li>'England Oglesby, IL'</li>\n",
       "\t\t<li>'England Salt Lake City, Utah'</li>\n",
       "\t\t<li>'Finland / Minneapolis, MN'</li>\n",
       "\t\t<li>'Finland / Washington, DC'</li>\n",
       "\t\t<li>'Finland Sudbury, ON'</li>\n",
       "\t\t<li>'Folkstone, Kent / New York, NY'</li>\n",
       "\t\t<li>'Fond du Lac, WI'</li>\n",
       "\t\t<li>'Foresvik, Norway Portland, ND'</li>\n",
       "\t\t<li>'Frankfort, KY'</li>\n",
       "\t\t<li>'Gallipolis, Ohio / ? Paris / New York'</li>\n",
       "\t\t<li>'Geneva, Switzerland / Radnor, PA'</li>\n",
       "\t\t<li>'Germantown, Philadelphia, PA'</li>\n",
       "\t\t<li>'Glasgow'</li>\n",
       "\t\t<li>'Glasgow / Bangor, ME'</li>\n",
       "\t\t<li>'Glen Ridge, NJ'</li>\n",
       "\t\t<li>'Goteborg, Sweden / Rockford, IL'</li>\n",
       "\t\t<li>'Goteborg, Sweden Huntley, IL'</li>\n",
       "\t\t<li>'Greece'</li>\n",
       "\t\t<li>'Green Bay, WI'</li>\n",
       "\t\t<li>'Greenport, NY'</li>\n",
       "\t\t<li>'Greensburg, PA'</li>\n",
       "\t\t<li>'Greenwich, CT'</li>\n",
       "\t\t<li>'Guernsey'</li>\n",
       "\t\t<li>'Guernsey / Elizabeth, NJ'</li>\n",
       "\t\t<li>'Guernsey / Montclair, NJ and/or Toledo, Ohio'</li>\n",
       "\t\t<li>'Guernsey / Wilmington, DE'</li>\n",
       "\t\t<li>'Guernsey, England / Edgewood, RI'</li>\n",
       "\t\t<li>'Gunnislake, England / Butte, MT'</li>\n",
       "\t\t<li>'Guntur, India / Benton Harbour, MI'</li>\n",
       "\t\t<li>'Haddenfield, NJ'</li>\n",
       "\t\t<li>'Halesworth, England'</li>\n",
       "\t\t<li>'Halifax, NS'</li>\n",
       "\t\t<li>'Hamilton, ON'</li>\n",
       "\t\t<li>'Harrisburg, PA'</li>\n",
       "\t\t<li>'Harrow-on-the-Hill, Middlesex'</li>\n",
       "\t\t<li>'Harrow, England'</li>\n",
       "\t\t<li>'Hartford, CT'</li>\n",
       "\t\t<li>'Hartford, Huntingdonshire'</li>\n",
       "\t\t<li>'Haverford, PA'</li>\n",
       "\t\t<li>'Haverford, PA / Cooperstown, NY'</li>\n",
       "\t\t<li>'Helsinki, Finland Ashtabula, Ohio'</li>\n",
       "\t\t<li>'Hessle, Yorks'</li>\n",
       "\t\t<li>'Holley, NY'</li>\n",
       "\t\t<li>'Hong Kong New York, NY'</li>\n",
       "\t\t<li>'Hornsey, England'</li>\n",
       "\t\t<li>'Hudson, NY'</li>\n",
       "\t\t<li>'Huntington, WV'</li>\n",
       "\t\t<li>'Ilford, Essex / Winnipeg, MB'</li>\n",
       "\t\t<li>'Ilfracombe, Devon'</li>\n",
       "\t\t<li>'Illinois, USA'</li>\n",
       "\t\t<li>'India / Pittsburgh, PA'</li>\n",
       "\t\t<li>'India / Rapid City, SD'</li>\n",
       "\t\t<li>'Indianapolis, IN'</li>\n",
       "\t\t<li>'Ireland'</li>\n",
       "\t\t<li>'Ireland Brooklyn, NY'</li>\n",
       "\t\t<li>'Ireland Chicago, IL'</li>\n",
       "\t\t<li>'Ireland New York, NY'</li>\n",
       "\t\t<li>'Ireland Philadelphia, PA'</li>\n",
       "\t\t<li>'Isle of Wight, England'</li>\n",
       "\t\t<li>'Isleworth, England'</li>\n",
       "\t\t<li>'Italy Philadelphia, PA'</li>\n",
       "\t\t<li>'Jacksonville, FL'</li>\n",
       "\t\t<li>'Janjgir, India / Pennsylvania'</li>\n",
       "\t\t<li>'Karberg, Sweden Jerome Junction, AZ'</li>\n",
       "\t\t<li>'Kilmacowen, Co Sligo, Ireland New York, NY'</li>\n",
       "\t\t<li>'Kingston, Surrey'</li>\n",
       "\t\t<li>'Kingwilliamstown, Co Cork, Ireland Glens Falls, NY'</li>\n",
       "\t\t<li>'Kingwilliamstown, Co Cork, Ireland New York, NY'</li>\n",
       "\t\t<li>'Kontiolahti, Finland / Detroit, MI'</li>\n",
       "\t\t<li>'Krakoryd, Sweden Bloomington, IL'</li>\n",
       "\t\t<li>'Krakudden, Sweden Moune, IL'</li>\n",
       "\t\t<li>'Lake Arthur, Chavez County, NM'</li>\n",
       "\t\t<li>'Lakewood, NJ'</li>\n",
       "\t\t<li>'Lexington, MA'</li>\n",
       "\t\t<li>'Lima, Peru'</li>\n",
       "\t\t<li>'Little Onn Hall, Staffs'</li>\n",
       "\t\t<li>'Liverpool'</li>\n",
       "\t\t<li>'Liverpool / Montreal, PQ'</li>\n",
       "\t\t<li>'Liverpool, England / Belfast'</li>\n",
       "\t\t<li>'Liverpool, England Bedford, OH'</li>\n",
       "\t\t<li>'London'</li>\n",
       "\t\t<li><span style=white-space:pre-wrap>'London  Vancouver, BC'</span></li>\n",
       "\t\t<li><span style=white-space:pre-wrap>'London /  East Orange, NJ'</span></li>\n",
       "\t\t<li>'London / Birmingham'</li>\n",
       "\t\t<li>'London / Chicago, IL'</li>\n",
       "\t\t<li>'London / Fort Byron, NY'</li>\n",
       "\t\t<li>'London / Middlesex'</li>\n",
       "\t\t<li>'London / Montreal, PQ'</li>\n",
       "\t\t<li>'London / New York, NY'</li>\n",
       "\t\t<li>'London / Paris'</li>\n",
       "\t\t<li>'London / Staten Island, NY'</li>\n",
       "\t\t<li>'London / Winnipeg, MB'</li>\n",
       "\t\t<li>'London Brooklyn, NY'</li>\n",
       "\t\t<li>'London New York, NY'</li>\n",
       "\t\t<li>'London Skanteales, NY'</li>\n",
       "\t\t<li>'London, England'</li>\n",
       "\t\t<li>'London, England / Marietta, Ohio and Milwaukee, WI'</li>\n",
       "\t\t<li>'London, England Norfolk, VA'</li>\n",
       "\t\t<li>'Los Angeles, CA'</li>\n",
       "\t\t<li>'Lower Clapton, Middlesex or Erdington, Birmingham'</li>\n",
       "\t\t<li>'Lucca, Italy / California'</li>\n",
       "\t\t<li>'Lyndhurst, England'</li>\n",
       "\t\t<li>'Madrid, Spain'</li>\n",
       "\t\t<li>'Mamaroneck, NY'</li>\n",
       "\t\t<li>'Manchester, England'</li>\n",
       "\t\t<li>'Medeltorp, Sweden Chicago, IL'</li>\n",
       "\t\t<li>'Merrill, WI'</li>\n",
       "\t\t<li>'Mexico City, Mexico'</li>\n",
       "\t\t<li>'Middleburg Heights, OH'</li>\n",
       "\t\t<li>'Milford, NH'</li>\n",
       "\t\t<li>'Milwaukee, WI'</li>\n",
       "\t\t<li>'Minneapolis, MN'</li>\n",
       "\t\t<li>'Montevideo, Uruguay'</li>\n",
       "\t\t<li>'Montreal, PQ'</li>\n",
       "\t\t<li>'Montreal, PQ / Chesterville, ON'</li>\n",
       "\t\t<li>'Moscow / Bronx, NY'</li>\n",
       "\t\t<li>'Mt Airy, Philadelphia, PA'</li>\n",
       "\t\t<li>'Myren, Sweden New York, NY'</li>\n",
       "\t\t<li>'New Britain, CT'</li>\n",
       "\t\t<li>'New Forest, England'</li>\n",
       "\t\t<li>'New York, NY'</li>\n",
       "\t\t<li><span style=white-space:pre-wrap>'New York, NY /  Stamford CT'</span></li>\n",
       "\t\t<li>'New York, NY / Briarcliff Manor NY'</li>\n",
       "\t\t<li>'New York, NY / Greenwich CT'</li>\n",
       "\t\t<li>'New York, NY / Ithaca, NY'</li>\n",
       "\t\t<li>'New York, NY / Washington, DC'</li>\n",
       "\t\t<li>'Newark, NJ'</li>\n",
       "\t\t<li>'Nice, France'</li>\n",
       "\t\t<li>'Norrlot, Sweden Chicago, IL'</li>\n",
       "\t\t<li>'North Evington, England'</li>\n",
       "\t\t<li>'Norway Los Angeles, CA'</li>\n",
       "\t\t<li>'Norwich / New York, NY'</li>\n",
       "\t\t<li>'Omaha, NE'</li>\n",
       "\t\t<li>'Oskarshamn, Sweden Minneapolis, MN'</li>\n",
       "\t\t<li>'Oslo, Norway Bayonne, NJ'</li>\n",
       "\t\t<li>'Oslo, Norway Cameron, WI'</li>\n",
       "\t\t<li>'Ottawa, ON'</li>\n",
       "\t\t<li>'Paris'</li>\n",
       "\t\t<li><span style=white-space:pre-wrap>'Paris /  New York, NY'</span></li>\n",
       "\t\t<li>'Paris / Haiti'</li>\n",
       "\t\t<li>'Paris / Montreal, PQ'</li>\n",
       "\t\t<li>'Paris, France'</li>\n",
       "\t\t<li>'Paris, France / New York, NY'</li>\n",
       "\t\t<li>'Paris, France New York, NY'</li>\n",
       "\t\t<li>'Pennsylvania'</li>\n",
       "\t\t<li>'Penzance, Cornwall / Akron, OH'</li>\n",
       "\t\t<li>'Perkins County, SD'</li>\n",
       "\t\t<li>'Petworth, Sussex'</li>\n",
       "\t\t<li>'Philadelphia, PA'</li>\n",
       "\t\t<li>'Plymouth, Devon / Detroit, MI'</li>\n",
       "\t\t<li>'Plymouth, Dorset / Houghton, MI'</li>\n",
       "\t\t<li>'Plymouth, England'</li>\n",
       "\t\t<li>'Pomeroy, WA'</li>\n",
       "\t\t<li>'Pondersend, England / New Durham, NJ'</li>\n",
       "\t\t<li>'Portland, OR'</li>\n",
       "\t\t<li>'Portugal'</li>\n",
       "\t\t<li>'Portugal / Sau Paulo, Brazil'</li>\n",
       "\t\t<li>'Providence, RI'</li>\n",
       "\t\t<li>'Provo, UT'</li>\n",
       "\t\t<li>'Roachdale, IN'</li>\n",
       "\t\t<li>'Rochester, NY'</li>\n",
       "\t\t<li>'Rotherfield, Sussex, England Essex Co, MA'</li>\n",
       "\t\t<li>'Rotterdam, Netherlands'</li>\n",
       "\t\t<li>'Ruotsinphyhtaa, Finland New York, NY'</li>\n",
       "\t\t<li>'Ruotsinphytaa, Finland New York, NY'</li>\n",
       "\t\t<li>'Russia'</li>\n",
       "\t\t<li>'Russia New York, NY'</li>\n",
       "\t\t<li>'Salo, Finland Astoria, OR'</li>\n",
       "\t\t<li>'San Francisco, CA'</li>\n",
       "\t\t<li>'Sarnia, ON'</li>\n",
       "\t\t<li>'Sault St Marie, ON'</li>\n",
       "\t\t<li>'Scituate, MA'</li>\n",
       "\t\t<li>'Seattle, WA'</li>\n",
       "\t\t<li>'Seattle, WA / Toledo, OH'</li>\n",
       "\t\t<li>'Sittingbourne, England / San Diego, CA'</li>\n",
       "\t\t<li>'Skara, Sweden / Rockford, IL'</li>\n",
       "\t\t<li>'Somerset / Bernardsville, NJ'</li>\n",
       "\t\t<li>'Southampton'</li>\n",
       "\t\t<li>'Southampton / New York, NY'</li>\n",
       "\t\t<li>'Southington / Noank, CT'</li>\n",
       "\t\t<li>'Southsea, Hants'</li>\n",
       "\t\t<li>'Spain'</li>\n",
       "\t\t<li>'Spain / Havana, Cuba'</li>\n",
       "\t\t<li>'Springfield, MA'</li>\n",
       "\t\t<li>'St Andrews, Guernsey'</li>\n",
       "\t\t<li>'St Anne\\'s-on-Sea, Lancashire'</li>\n",
       "\t\t<li>'St Austall, Cornwall'</li>\n",
       "\t\t<li>'St Denys, Southampton, Hants'</li>\n",
       "\t\t<li>'St Ives, Cornwall / Calumet, MI'</li>\n",
       "\t\t<li>'St Ives, Cornwall / Hancock, MI'</li>\n",
       "\t\t<li>'St Ives, Cornwall / Houghton, MI'</li>\n",
       "\t\t<li>'St James, Long Island, NY'</li>\n",
       "\t\t<li>'St Leonards-on-Sea, England Ohio'</li>\n",
       "\t\t<li>'St Louis, MO'</li>\n",
       "\t\t<li>'Stanton, IA'</li>\n",
       "\t\t<li>'Stockholm, Sweden'</li>\n",
       "\t\t<li>'Stockholm, Sweden / Washington, DC'</li>\n",
       "\t\t<li>'Stockholm, Sweden New York'</li>\n",
       "\t\t<li>'Stoughton, MA'</li>\n",
       "\t\t<li>'Streatham, Surrey'</li>\n",
       "\t\t<li>'Strood, Kent, England Detroit, MI'</li>\n",
       "\t\t<li>'Surbiton Hill, Surrey'</li>\n",
       "\t\t<li><span style=white-space:pre-wrap>'Sweden  Worcester, MA'</span></li>\n",
       "\t\t<li>'Sweden / Arlington, NJ'</li>\n",
       "\t\t<li>'Sweden Akeley, MN'</li>\n",
       "\t\t<li>'Sweden Chicago, IL'</li>\n",
       "\t\t<li>'Sweden Joliet, IL'</li>\n",
       "\t\t<li>'Sweden Winnipeg, MN'</li>\n",
       "\t\t<li>'Sweden Worcester, MA'</li>\n",
       "\t\t<li>'Swindon, England'</li>\n",
       "\t\t<li>'Sydney, Australia'</li>\n",
       "\t\t<li>'Syria'</li>\n",
       "\t\t<li>'Syria Fredericksburg, VA'</li>\n",
       "\t\t<li>'Syria Kent, ON'</li>\n",
       "\t\t<li>'Syria New York, NY'</li>\n",
       "\t\t<li>'Syria Ottawa, ON'</li>\n",
       "\t\t<li>'Syria Youngstown, OH'</li>\n",
       "\t\t<li>'Taalintehdas, Finland Hoboken, NJ'</li>\n",
       "\t\t<li>'Tampico, MT'</li>\n",
       "\t\t<li>'Tofta, Sweden Joliet, IL'</li>\n",
       "\t\t<li>'Tokyo, Japan'</li>\n",
       "\t\t<li>'Toronto, ON'</li>\n",
       "\t\t<li>'Tranvik, Finland New York'</li>\n",
       "\t\t<li>'Treherbert, Cardiff, Wales'</li>\n",
       "\t\t<li>'Trenton, NJ'</li>\n",
       "\t\t<li>'Tuxedo Park, NY'</li>\n",
       "\t\t<li>'Union Hill, NJ'</li>\n",
       "\t\t<li>'Upper Burma, India Pittsburgh, PA'</li>\n",
       "\t\t<li>'Vadsbro, Sweden Ministee, MI'</li>\n",
       "\t\t<li>'Vancouver, BC'</li>\n",
       "\t\t<li>'Victoria, BC'</li>\n",
       "\t\t<li>'Walthamstow, England'</li>\n",
       "\t\t<li>'Warwick, England'</li>\n",
       "\t\t<li>'Washington, DC'</li>\n",
       "\t\t<li>'Waukegan, Chicago, IL'</li>\n",
       "\t\t<li>'West Bromwich, England Pontiac, MI'</li>\n",
       "\t\t<li>'West Hampstead, London / Neepawa, MB'</li>\n",
       "\t\t<li>'West Haven, CT'</li>\n",
       "\t\t<li>'West Hoboken, NJ'</li>\n",
       "\t\t<li>'West Kensington, London'</li>\n",
       "\t\t<li>'Westcliff-on-Sea, Essex'</li>\n",
       "\t\t<li>'Weston-Super-Mare / Moose Jaw, SK'</li>\n",
       "\t\t<li>'Weston-Super-Mare, Somerset'</li>\n",
       "\t\t<li>'Wiltshire, England Niagara Falls, NY'</li>\n",
       "\t\t<li>'Wimbledon Park, London / Hayling Island, Hants'</li>\n",
       "\t\t<li>'Windsor, England New York, NY'</li>\n",
       "\t\t<li>'Winnipeg, MB'</li>\n",
       "\t\t<li>'Winnipeg, MN'</li>\n",
       "\t\t<li>'Woodford County, KY'</li>\n",
       "\t\t<li>'Worcester, England'</li>\n",
       "\t\t<li>'Worcester, MA'</li>\n",
       "\t\t<li>'Yoevil, England / Cottage Grove, OR'</li>\n",
       "\t\t<li>'Youngstown, OH'</li>\n",
       "\t\t<li>'Zurich, Switzerland'</li>\n",
       "\t</ol>\n",
       "</details>"
      ],
      "text/latex": [
       "\\begin{enumerate*}\n",
       "\\item Duluth, MN\n",
       "\\item Duluth, MN\n",
       "\\end{enumerate*}\n",
       "\n",
       "\\emph{Levels}: \\begin{enumerate*}\n",
       "\\item ''\n",
       "\\item '?Havana, Cuba'\n",
       "\\item 'Aberdeen / Portland, OR'\n",
       "\\item 'Albany, NY'\n",
       "\\item 'Altdorf, Switzerland'\n",
       "\\item 'Amenia, ND'\n",
       "\\item 'Antwerp, Belgium / Stanton, OH'\n",
       "\\item 'Argentina'\n",
       "\\item 'Asarum, Sweden Brooklyn, NY'\n",
       "\\item 'Ascot, Berkshire / Rochester, NY'\n",
       "\\item 'Auburn, NY'\n",
       "\\item 'Aughnacliff, Co Longford, Ireland New York, NY'\n",
       "\\item 'Australia Fingal, ND'\n",
       "\\item 'Austria'\n",
       "\\item 'Austria Niagara Falls, NY'\n",
       "\\item 'Austria-Hungary'\n",
       "\\item 'Austria-Hungary / Germantown, Philadelphia, PA'\n",
       "\\item 'Ballydehob, Co Cork, Ireland New York, NY'\n",
       "\\item 'Bangkok, Thailand / Roseville, IL'\n",
       "\\item 'Barcelona, Spain / Havana, Cuba'\n",
       "\\item 'Barre, Co Washington, VT'\n",
       "\\item 'Basel, Switzerland'\n",
       "\\item 'Bath, England / Massachusetts'\n",
       "\\item 'Bayside, Queens, NY'\n",
       "\\item 'Belfast'\n",
       "\\item 'Belfast, NI'\n",
       "\\item 'Belgium  Montreal, PQ'\n",
       "\\item 'Belgium Detroit, MI'\n",
       "\\item 'Belmont, MA'\n",
       "\\item 'Bennington, VT'\n",
       "\\item 'Bergen, Norway'\n",
       "\\item 'Berne, Switzerland / Central City, IA'\n",
       "\\item 'Birkdale, England Cleveland, Ohio'\n",
       "\\item 'Bishopstoke, Hants / Fayette Valley, ID'\n",
       "\\item 'Boston, MA'\n",
       "\\item 'Bournemouth, England'\n",
       "\\item 'Bournemouth, England Newark, NJ'\n",
       "\\item 'Bournmouth, England'\n",
       "\\item 'Brennes, Norway New York'\n",
       "\\item 'Bridgerule, Devon'\n",
       "\\item 'Bridgwater, Somerset, England'\n",
       "\\item 'Brighton, MA'\n",
       "\\item 'Brighton, Sussex'\n",
       "\\item 'Bristol, Avon / Jacksonville, FL'\n",
       "\\item 'Bristol, England / New Britain, CT'\n",
       "\\item 'Bristol, England Cleveland, OH'\n",
       "\\item 'Brockton, MA'\n",
       "\\item 'Bromsgrove, England / Montreal, PQ'\n",
       "\\item 'Bronx, NY'\n",
       "\\item 'Brookline, MA'\n",
       "\\item 'Brooklyn, NY'\n",
       "\\item 'Broomfield, Chelmsford, England'\n",
       "\\item 'Brunswick, ME'\n",
       "\\item 'Bryn Mawr, PA'\n",
       "\\item 'Bryn Mawr, PA, USA'\n",
       "\\item 'Buenos Aires, Argentina / New Jersey, NJ'\n",
       "\\item 'Buffalo, NY'\n",
       "\\item 'Bulgaria Chicago, IL'\n",
       "\\item 'Bulgaria Coon Rapids, IA'\n",
       "\\item 'Calgary, AB'\n",
       "\\item 'Cambridge, MA'\n",
       "\\item 'Cape Town, South Africa / Seattle, WA'\n",
       "\\item 'Catford, Kent / Detroit, MI'\n",
       "\\item 'Chelsea, London'\n",
       "\\item 'Chicago, IL'\n",
       "\\item 'Cincinatti, OH'\n",
       "\\item 'Clevedon, England'\n",
       "\\item 'Co Athlone, Ireland New York, NY'\n",
       "\\item 'Co Clare, Ireland Washington, DC'\n",
       "\\item 'Co Cork, Ireland Charlestown, MA'\n",
       "\\item 'Co Cork, Ireland Roxbury, MA'\n",
       "\\item 'Co Limerick, Ireland Sherbrooke, PQ'\n",
       "\\item 'Co Longford, Ireland New York, NY'\n",
       "\\item 'Co Sligo, Ireland Hartford, CT'\n",
       "\\item 'Co Sligo, Ireland New York, NY'\n",
       "\\item 'Cologne, Germany'\n",
       "\\item 'Columbus, OH'\n",
       "\\item 'Cooperstown, NY'\n",
       "\\item 'Copenhagen, Denmark'\n",
       "\\item 'Cornwall'\n",
       "\\item 'Cornwall / Akron, OH'\n",
       "\\item 'Cornwall / Camden, NJ'\n",
       "\\item 'Cornwall / Clear Creek, CO'\n",
       "\\item 'Cornwall / Hancock, MI'\n",
       "\\item 'Cornwall / Houghton, MI'\n",
       "\\item 'Cornwall / Spokane, WA'\n",
       "\\item 'Cornwall, England Houghton, MI'\n",
       "\\item 'Croatia'\n",
       "\\item 'Dagsas, Sweden Fower, MN'\n",
       "\\item 'Deephaven, MN / Cedar Rapids, IA'\n",
       "\\item 'Deer Lodge, MT'\n",
       "\\item 'Denmark / New York, NY'\n",
       "\\item 'Denmark Hill, Surrey / Chicago'\n",
       "\\item 'Denver, CO'\n",
       "\\item 'Detroit, MI'\n",
       "\\item 'Devon, England Wichita, KS'\n",
       "\\item 'Devonport, England'\n",
       "\\item 'Dorchester, MA'\n",
       "\\item 'Dorking, Surrey, England'\n",
       "\\item 'Dowagiac, MI'\n",
       "\\item 'Duluth, MN'\n",
       "\\item 'East Bridgewater, MA'\n",
       "\\item 'East Orange, NJ'\n",
       "\\item 'East Providence, RI'\n",
       "\\item 'Effington Rut, SD'\n",
       "\\item 'Elizabeth, NJ'\n",
       "\\item 'Elkins Park, PA'\n",
       "\\item 'Elmira, NY / Orange, NJ'\n",
       "\\item 'England'\n",
       "\\item 'England / Bennington, VT'\n",
       "\\item 'England / Detroit, MI'\n",
       "\\item 'England / Hartford, CT'\n",
       "\\item 'England / Philadelphia, PA'\n",
       "\\item 'England / Sacramento, CA'\n",
       "\\item 'England / San Francisco, CA'\n",
       "\\item 'England Albion, NY'\n",
       "\\item 'England Brooklyn, NY'\n",
       "\\item 'England New York, NY'\n",
       "\\item 'England Oglesby, IL'\n",
       "\\item 'England Salt Lake City, Utah'\n",
       "\\item 'Finland / Minneapolis, MN'\n",
       "\\item 'Finland / Washington, DC'\n",
       "\\item 'Finland Sudbury, ON'\n",
       "\\item 'Folkstone, Kent / New York, NY'\n",
       "\\item 'Fond du Lac, WI'\n",
       "\\item 'Foresvik, Norway Portland, ND'\n",
       "\\item 'Frankfort, KY'\n",
       "\\item 'Gallipolis, Ohio / ? Paris / New York'\n",
       "\\item 'Geneva, Switzerland / Radnor, PA'\n",
       "\\item 'Germantown, Philadelphia, PA'\n",
       "\\item 'Glasgow'\n",
       "\\item 'Glasgow / Bangor, ME'\n",
       "\\item 'Glen Ridge, NJ'\n",
       "\\item 'Goteborg, Sweden / Rockford, IL'\n",
       "\\item 'Goteborg, Sweden Huntley, IL'\n",
       "\\item 'Greece'\n",
       "\\item 'Green Bay, WI'\n",
       "\\item 'Greenport, NY'\n",
       "\\item 'Greensburg, PA'\n",
       "\\item 'Greenwich, CT'\n",
       "\\item 'Guernsey'\n",
       "\\item 'Guernsey / Elizabeth, NJ'\n",
       "\\item 'Guernsey / Montclair, NJ and/or Toledo, Ohio'\n",
       "\\item 'Guernsey / Wilmington, DE'\n",
       "\\item 'Guernsey, England / Edgewood, RI'\n",
       "\\item 'Gunnislake, England / Butte, MT'\n",
       "\\item 'Guntur, India / Benton Harbour, MI'\n",
       "\\item 'Haddenfield, NJ'\n",
       "\\item 'Halesworth, England'\n",
       "\\item 'Halifax, NS'\n",
       "\\item 'Hamilton, ON'\n",
       "\\item 'Harrisburg, PA'\n",
       "\\item 'Harrow-on-the-Hill, Middlesex'\n",
       "\\item 'Harrow, England'\n",
       "\\item 'Hartford, CT'\n",
       "\\item 'Hartford, Huntingdonshire'\n",
       "\\item 'Haverford, PA'\n",
       "\\item 'Haverford, PA / Cooperstown, NY'\n",
       "\\item 'Helsinki, Finland Ashtabula, Ohio'\n",
       "\\item 'Hessle, Yorks'\n",
       "\\item 'Holley, NY'\n",
       "\\item 'Hong Kong New York, NY'\n",
       "\\item 'Hornsey, England'\n",
       "\\item 'Hudson, NY'\n",
       "\\item 'Huntington, WV'\n",
       "\\item 'Ilford, Essex / Winnipeg, MB'\n",
       "\\item 'Ilfracombe, Devon'\n",
       "\\item 'Illinois, USA'\n",
       "\\item 'India / Pittsburgh, PA'\n",
       "\\item 'India / Rapid City, SD'\n",
       "\\item 'Indianapolis, IN'\n",
       "\\item 'Ireland'\n",
       "\\item 'Ireland Brooklyn, NY'\n",
       "\\item 'Ireland Chicago, IL'\n",
       "\\item 'Ireland New York, NY'\n",
       "\\item 'Ireland Philadelphia, PA'\n",
       "\\item 'Isle of Wight, England'\n",
       "\\item 'Isleworth, England'\n",
       "\\item 'Italy Philadelphia, PA'\n",
       "\\item 'Jacksonville, FL'\n",
       "\\item 'Janjgir, India / Pennsylvania'\n",
       "\\item 'Karberg, Sweden Jerome Junction, AZ'\n",
       "\\item 'Kilmacowen, Co Sligo, Ireland New York, NY'\n",
       "\\item 'Kingston, Surrey'\n",
       "\\item 'Kingwilliamstown, Co Cork, Ireland Glens Falls, NY'\n",
       "\\item 'Kingwilliamstown, Co Cork, Ireland New York, NY'\n",
       "\\item 'Kontiolahti, Finland / Detroit, MI'\n",
       "\\item 'Krakoryd, Sweden Bloomington, IL'\n",
       "\\item 'Krakudden, Sweden Moune, IL'\n",
       "\\item 'Lake Arthur, Chavez County, NM'\n",
       "\\item 'Lakewood, NJ'\n",
       "\\item 'Lexington, MA'\n",
       "\\item 'Lima, Peru'\n",
       "\\item 'Little Onn Hall, Staffs'\n",
       "\\item 'Liverpool'\n",
       "\\item 'Liverpool / Montreal, PQ'\n",
       "\\item 'Liverpool, England / Belfast'\n",
       "\\item 'Liverpool, England Bedford, OH'\n",
       "\\item 'London'\n",
       "\\item 'London  Vancouver, BC'\n",
       "\\item 'London /  East Orange, NJ'\n",
       "\\item 'London / Birmingham'\n",
       "\\item 'London / Chicago, IL'\n",
       "\\item 'London / Fort Byron, NY'\n",
       "\\item 'London / Middlesex'\n",
       "\\item 'London / Montreal, PQ'\n",
       "\\item 'London / New York, NY'\n",
       "\\item 'London / Paris'\n",
       "\\item 'London / Staten Island, NY'\n",
       "\\item 'London / Winnipeg, MB'\n",
       "\\item 'London Brooklyn, NY'\n",
       "\\item 'London New York, NY'\n",
       "\\item 'London Skanteales, NY'\n",
       "\\item 'London, England'\n",
       "\\item 'London, England / Marietta, Ohio and Milwaukee, WI'\n",
       "\\item 'London, England Norfolk, VA'\n",
       "\\item 'Los Angeles, CA'\n",
       "\\item 'Lower Clapton, Middlesex or Erdington, Birmingham'\n",
       "\\item 'Lucca, Italy / California'\n",
       "\\item 'Lyndhurst, England'\n",
       "\\item 'Madrid, Spain'\n",
       "\\item 'Mamaroneck, NY'\n",
       "\\item 'Manchester, England'\n",
       "\\item 'Medeltorp, Sweden Chicago, IL'\n",
       "\\item 'Merrill, WI'\n",
       "\\item 'Mexico City, Mexico'\n",
       "\\item 'Middleburg Heights, OH'\n",
       "\\item 'Milford, NH'\n",
       "\\item 'Milwaukee, WI'\n",
       "\\item 'Minneapolis, MN'\n",
       "\\item 'Montevideo, Uruguay'\n",
       "\\item 'Montreal, PQ'\n",
       "\\item 'Montreal, PQ / Chesterville, ON'\n",
       "\\item 'Moscow / Bronx, NY'\n",
       "\\item 'Mt Airy, Philadelphia, PA'\n",
       "\\item 'Myren, Sweden New York, NY'\n",
       "\\item 'New Britain, CT'\n",
       "\\item 'New Forest, England'\n",
       "\\item 'New York, NY'\n",
       "\\item 'New York, NY /  Stamford CT'\n",
       "\\item 'New York, NY / Briarcliff Manor NY'\n",
       "\\item 'New York, NY / Greenwich CT'\n",
       "\\item 'New York, NY / Ithaca, NY'\n",
       "\\item 'New York, NY / Washington, DC'\n",
       "\\item 'Newark, NJ'\n",
       "\\item 'Nice, France'\n",
       "\\item 'Norrlot, Sweden Chicago, IL'\n",
       "\\item 'North Evington, England'\n",
       "\\item 'Norway Los Angeles, CA'\n",
       "\\item 'Norwich / New York, NY'\n",
       "\\item 'Omaha, NE'\n",
       "\\item 'Oskarshamn, Sweden Minneapolis, MN'\n",
       "\\item 'Oslo, Norway Bayonne, NJ'\n",
       "\\item 'Oslo, Norway Cameron, WI'\n",
       "\\item 'Ottawa, ON'\n",
       "\\item 'Paris'\n",
       "\\item 'Paris /  New York, NY'\n",
       "\\item 'Paris / Haiti'\n",
       "\\item 'Paris / Montreal, PQ'\n",
       "\\item 'Paris, France'\n",
       "\\item 'Paris, France / New York, NY'\n",
       "\\item 'Paris, France New York, NY'\n",
       "\\item 'Pennsylvania'\n",
       "\\item 'Penzance, Cornwall / Akron, OH'\n",
       "\\item 'Perkins County, SD'\n",
       "\\item 'Petworth, Sussex'\n",
       "\\item 'Philadelphia, PA'\n",
       "\\item 'Plymouth, Devon / Detroit, MI'\n",
       "\\item 'Plymouth, Dorset / Houghton, MI'\n",
       "\\item 'Plymouth, England'\n",
       "\\item 'Pomeroy, WA'\n",
       "\\item 'Pondersend, England / New Durham, NJ'\n",
       "\\item 'Portland, OR'\n",
       "\\item 'Portugal'\n",
       "\\item 'Portugal / Sau Paulo, Brazil'\n",
       "\\item 'Providence, RI'\n",
       "\\item 'Provo, UT'\n",
       "\\item 'Roachdale, IN'\n",
       "\\item 'Rochester, NY'\n",
       "\\item 'Rotherfield, Sussex, England Essex Co, MA'\n",
       "\\item 'Rotterdam, Netherlands'\n",
       "\\item 'Ruotsinphyhtaa, Finland New York, NY'\n",
       "\\item 'Ruotsinphytaa, Finland New York, NY'\n",
       "\\item 'Russia'\n",
       "\\item 'Russia New York, NY'\n",
       "\\item 'Salo, Finland Astoria, OR'\n",
       "\\item 'San Francisco, CA'\n",
       "\\item 'Sarnia, ON'\n",
       "\\item 'Sault St Marie, ON'\n",
       "\\item 'Scituate, MA'\n",
       "\\item 'Seattle, WA'\n",
       "\\item 'Seattle, WA / Toledo, OH'\n",
       "\\item 'Sittingbourne, England / San Diego, CA'\n",
       "\\item 'Skara, Sweden / Rockford, IL'\n",
       "\\item 'Somerset / Bernardsville, NJ'\n",
       "\\item 'Southampton'\n",
       "\\item 'Southampton / New York, NY'\n",
       "\\item 'Southington / Noank, CT'\n",
       "\\item 'Southsea, Hants'\n",
       "\\item 'Spain'\n",
       "\\item 'Spain / Havana, Cuba'\n",
       "\\item 'Springfield, MA'\n",
       "\\item 'St Andrews, Guernsey'\n",
       "\\item 'St Anne\\textbackslash{}'s-on-Sea, Lancashire'\n",
       "\\item 'St Austall, Cornwall'\n",
       "\\item 'St Denys, Southampton, Hants'\n",
       "\\item 'St Ives, Cornwall / Calumet, MI'\n",
       "\\item 'St Ives, Cornwall / Hancock, MI'\n",
       "\\item 'St Ives, Cornwall / Houghton, MI'\n",
       "\\item 'St James, Long Island, NY'\n",
       "\\item 'St Leonards-on-Sea, England Ohio'\n",
       "\\item 'St Louis, MO'\n",
       "\\item 'Stanton, IA'\n",
       "\\item 'Stockholm, Sweden'\n",
       "\\item 'Stockholm, Sweden / Washington, DC'\n",
       "\\item 'Stockholm, Sweden New York'\n",
       "\\item 'Stoughton, MA'\n",
       "\\item 'Streatham, Surrey'\n",
       "\\item 'Strood, Kent, England Detroit, MI'\n",
       "\\item 'Surbiton Hill, Surrey'\n",
       "\\item 'Sweden  Worcester, MA'\n",
       "\\item 'Sweden / Arlington, NJ'\n",
       "\\item 'Sweden Akeley, MN'\n",
       "\\item 'Sweden Chicago, IL'\n",
       "\\item 'Sweden Joliet, IL'\n",
       "\\item 'Sweden Winnipeg, MN'\n",
       "\\item 'Sweden Worcester, MA'\n",
       "\\item 'Swindon, England'\n",
       "\\item 'Sydney, Australia'\n",
       "\\item 'Syria'\n",
       "\\item 'Syria Fredericksburg, VA'\n",
       "\\item 'Syria Kent, ON'\n",
       "\\item 'Syria New York, NY'\n",
       "\\item 'Syria Ottawa, ON'\n",
       "\\item 'Syria Youngstown, OH'\n",
       "\\item 'Taalintehdas, Finland Hoboken, NJ'\n",
       "\\item 'Tampico, MT'\n",
       "\\item 'Tofta, Sweden Joliet, IL'\n",
       "\\item 'Tokyo, Japan'\n",
       "\\item 'Toronto, ON'\n",
       "\\item 'Tranvik, Finland New York'\n",
       "\\item 'Treherbert, Cardiff, Wales'\n",
       "\\item 'Trenton, NJ'\n",
       "\\item 'Tuxedo Park, NY'\n",
       "\\item 'Union Hill, NJ'\n",
       "\\item 'Upper Burma, India Pittsburgh, PA'\n",
       "\\item 'Vadsbro, Sweden Ministee, MI'\n",
       "\\item 'Vancouver, BC'\n",
       "\\item 'Victoria, BC'\n",
       "\\item 'Walthamstow, England'\n",
       "\\item 'Warwick, England'\n",
       "\\item 'Washington, DC'\n",
       "\\item 'Waukegan, Chicago, IL'\n",
       "\\item 'West Bromwich, England Pontiac, MI'\n",
       "\\item 'West Hampstead, London / Neepawa, MB'\n",
       "\\item 'West Haven, CT'\n",
       "\\item 'West Hoboken, NJ'\n",
       "\\item 'West Kensington, London'\n",
       "\\item 'Westcliff-on-Sea, Essex'\n",
       "\\item 'Weston-Super-Mare / Moose Jaw, SK'\n",
       "\\item 'Weston-Super-Mare, Somerset'\n",
       "\\item 'Wiltshire, England Niagara Falls, NY'\n",
       "\\item 'Wimbledon Park, London / Hayling Island, Hants'\n",
       "\\item 'Windsor, England New York, NY'\n",
       "\\item 'Winnipeg, MB'\n",
       "\\item 'Winnipeg, MN'\n",
       "\\item 'Woodford County, KY'\n",
       "\\item 'Worcester, England'\n",
       "\\item 'Worcester, MA'\n",
       "\\item 'Yoevil, England / Cottage Grove, OR'\n",
       "\\item 'Youngstown, OH'\n",
       "\\item 'Zurich, Switzerland'\n",
       "\\end{enumerate*}\n"
      ],
      "text/markdown": [
       "1. Duluth, MN\n",
       "2. Duluth, MN\n",
       "\n",
       "\n",
       "\n",
       "**Levels**: 1. ''\n",
       "2. '?Havana, Cuba'\n",
       "3. 'Aberdeen / Portland, OR'\n",
       "4. 'Albany, NY'\n",
       "5. 'Altdorf, Switzerland'\n",
       "6. 'Amenia, ND'\n",
       "7. 'Antwerp, Belgium / Stanton, OH'\n",
       "8. 'Argentina'\n",
       "9. 'Asarum, Sweden Brooklyn, NY'\n",
       "10. 'Ascot, Berkshire / Rochester, NY'\n",
       "11. 'Auburn, NY'\n",
       "12. 'Aughnacliff, Co Longford, Ireland New York, NY'\n",
       "13. 'Australia Fingal, ND'\n",
       "14. 'Austria'\n",
       "15. 'Austria Niagara Falls, NY'\n",
       "16. 'Austria-Hungary'\n",
       "17. 'Austria-Hungary / Germantown, Philadelphia, PA'\n",
       "18. 'Ballydehob, Co Cork, Ireland New York, NY'\n",
       "19. 'Bangkok, Thailand / Roseville, IL'\n",
       "20. 'Barcelona, Spain / Havana, Cuba'\n",
       "21. 'Barre, Co Washington, VT'\n",
       "22. 'Basel, Switzerland'\n",
       "23. 'Bath, England / Massachusetts'\n",
       "24. 'Bayside, Queens, NY'\n",
       "25. 'Belfast'\n",
       "26. 'Belfast, NI'\n",
       "27. <span style=white-space:pre-wrap>'Belgium  Montreal, PQ'</span>\n",
       "28. 'Belgium Detroit, MI'\n",
       "29. 'Belmont, MA'\n",
       "30. 'Bennington, VT'\n",
       "31. 'Bergen, Norway'\n",
       "32. 'Berne, Switzerland / Central City, IA'\n",
       "33. 'Birkdale, England Cleveland, Ohio'\n",
       "34. 'Bishopstoke, Hants / Fayette Valley, ID'\n",
       "35. 'Boston, MA'\n",
       "36. 'Bournemouth, England'\n",
       "37. 'Bournemouth, England Newark, NJ'\n",
       "38. 'Bournmouth, England'\n",
       "39. 'Brennes, Norway New York'\n",
       "40. 'Bridgerule, Devon'\n",
       "41. 'Bridgwater, Somerset, England'\n",
       "42. 'Brighton, MA'\n",
       "43. 'Brighton, Sussex'\n",
       "44. 'Bristol, Avon / Jacksonville, FL'\n",
       "45. 'Bristol, England / New Britain, CT'\n",
       "46. 'Bristol, England Cleveland, OH'\n",
       "47. 'Brockton, MA'\n",
       "48. 'Bromsgrove, England / Montreal, PQ'\n",
       "49. 'Bronx, NY'\n",
       "50. 'Brookline, MA'\n",
       "51. 'Brooklyn, NY'\n",
       "52. 'Broomfield, Chelmsford, England'\n",
       "53. 'Brunswick, ME'\n",
       "54. 'Bryn Mawr, PA'\n",
       "55. 'Bryn Mawr, PA, USA'\n",
       "56. 'Buenos Aires, Argentina / New Jersey, NJ'\n",
       "57. 'Buffalo, NY'\n",
       "58. 'Bulgaria Chicago, IL'\n",
       "59. 'Bulgaria Coon Rapids, IA'\n",
       "60. 'Calgary, AB'\n",
       "61. 'Cambridge, MA'\n",
       "62. 'Cape Town, South Africa / Seattle, WA'\n",
       "63. 'Catford, Kent / Detroit, MI'\n",
       "64. 'Chelsea, London'\n",
       "65. 'Chicago, IL'\n",
       "66. 'Cincinatti, OH'\n",
       "67. 'Clevedon, England'\n",
       "68. 'Co Athlone, Ireland New York, NY'\n",
       "69. 'Co Clare, Ireland Washington, DC'\n",
       "70. 'Co Cork, Ireland Charlestown, MA'\n",
       "71. 'Co Cork, Ireland Roxbury, MA'\n",
       "72. 'Co Limerick, Ireland Sherbrooke, PQ'\n",
       "73. 'Co Longford, Ireland New York, NY'\n",
       "74. 'Co Sligo, Ireland Hartford, CT'\n",
       "75. 'Co Sligo, Ireland New York, NY'\n",
       "76. 'Cologne, Germany'\n",
       "77. 'Columbus, OH'\n",
       "78. 'Cooperstown, NY'\n",
       "79. 'Copenhagen, Denmark'\n",
       "80. 'Cornwall'\n",
       "81. 'Cornwall / Akron, OH'\n",
       "82. 'Cornwall / Camden, NJ'\n",
       "83. 'Cornwall / Clear Creek, CO'\n",
       "84. 'Cornwall / Hancock, MI'\n",
       "85. 'Cornwall / Houghton, MI'\n",
       "86. 'Cornwall / Spokane, WA'\n",
       "87. 'Cornwall, England Houghton, MI'\n",
       "88. 'Croatia'\n",
       "89. 'Dagsas, Sweden Fower, MN'\n",
       "90. 'Deephaven, MN / Cedar Rapids, IA'\n",
       "91. 'Deer Lodge, MT'\n",
       "92. 'Denmark / New York, NY'\n",
       "93. 'Denmark Hill, Surrey / Chicago'\n",
       "94. 'Denver, CO'\n",
       "95. 'Detroit, MI'\n",
       "96. 'Devon, England Wichita, KS'\n",
       "97. 'Devonport, England'\n",
       "98. 'Dorchester, MA'\n",
       "99. 'Dorking, Surrey, England'\n",
       "100. 'Dowagiac, MI'\n",
       "101. 'Duluth, MN'\n",
       "102. 'East Bridgewater, MA'\n",
       "103. 'East Orange, NJ'\n",
       "104. 'East Providence, RI'\n",
       "105. 'Effington Rut, SD'\n",
       "106. 'Elizabeth, NJ'\n",
       "107. 'Elkins Park, PA'\n",
       "108. 'Elmira, NY / Orange, NJ'\n",
       "109. 'England'\n",
       "110. 'England / Bennington, VT'\n",
       "111. 'England / Detroit, MI'\n",
       "112. 'England / Hartford, CT'\n",
       "113. 'England / Philadelphia, PA'\n",
       "114. 'England / Sacramento, CA'\n",
       "115. 'England / San Francisco, CA'\n",
       "116. 'England Albion, NY'\n",
       "117. 'England Brooklyn, NY'\n",
       "118. 'England New York, NY'\n",
       "119. 'England Oglesby, IL'\n",
       "120. 'England Salt Lake City, Utah'\n",
       "121. 'Finland / Minneapolis, MN'\n",
       "122. 'Finland / Washington, DC'\n",
       "123. 'Finland Sudbury, ON'\n",
       "124. 'Folkstone, Kent / New York, NY'\n",
       "125. 'Fond du Lac, WI'\n",
       "126. 'Foresvik, Norway Portland, ND'\n",
       "127. 'Frankfort, KY'\n",
       "128. 'Gallipolis, Ohio / ? Paris / New York'\n",
       "129. 'Geneva, Switzerland / Radnor, PA'\n",
       "130. 'Germantown, Philadelphia, PA'\n",
       "131. 'Glasgow'\n",
       "132. 'Glasgow / Bangor, ME'\n",
       "133. 'Glen Ridge, NJ'\n",
       "134. 'Goteborg, Sweden / Rockford, IL'\n",
       "135. 'Goteborg, Sweden Huntley, IL'\n",
       "136. 'Greece'\n",
       "137. 'Green Bay, WI'\n",
       "138. 'Greenport, NY'\n",
       "139. 'Greensburg, PA'\n",
       "140. 'Greenwich, CT'\n",
       "141. 'Guernsey'\n",
       "142. 'Guernsey / Elizabeth, NJ'\n",
       "143. 'Guernsey / Montclair, NJ and/or Toledo, Ohio'\n",
       "144. 'Guernsey / Wilmington, DE'\n",
       "145. 'Guernsey, England / Edgewood, RI'\n",
       "146. 'Gunnislake, England / Butte, MT'\n",
       "147. 'Guntur, India / Benton Harbour, MI'\n",
       "148. 'Haddenfield, NJ'\n",
       "149. 'Halesworth, England'\n",
       "150. 'Halifax, NS'\n",
       "151. 'Hamilton, ON'\n",
       "152. 'Harrisburg, PA'\n",
       "153. 'Harrow-on-the-Hill, Middlesex'\n",
       "154. 'Harrow, England'\n",
       "155. 'Hartford, CT'\n",
       "156. 'Hartford, Huntingdonshire'\n",
       "157. 'Haverford, PA'\n",
       "158. 'Haverford, PA / Cooperstown, NY'\n",
       "159. 'Helsinki, Finland Ashtabula, Ohio'\n",
       "160. 'Hessle, Yorks'\n",
       "161. 'Holley, NY'\n",
       "162. 'Hong Kong New York, NY'\n",
       "163. 'Hornsey, England'\n",
       "164. 'Hudson, NY'\n",
       "165. 'Huntington, WV'\n",
       "166. 'Ilford, Essex / Winnipeg, MB'\n",
       "167. 'Ilfracombe, Devon'\n",
       "168. 'Illinois, USA'\n",
       "169. 'India / Pittsburgh, PA'\n",
       "170. 'India / Rapid City, SD'\n",
       "171. 'Indianapolis, IN'\n",
       "172. 'Ireland'\n",
       "173. 'Ireland Brooklyn, NY'\n",
       "174. 'Ireland Chicago, IL'\n",
       "175. 'Ireland New York, NY'\n",
       "176. 'Ireland Philadelphia, PA'\n",
       "177. 'Isle of Wight, England'\n",
       "178. 'Isleworth, England'\n",
       "179. 'Italy Philadelphia, PA'\n",
       "180. 'Jacksonville, FL'\n",
       "181. 'Janjgir, India / Pennsylvania'\n",
       "182. 'Karberg, Sweden Jerome Junction, AZ'\n",
       "183. 'Kilmacowen, Co Sligo, Ireland New York, NY'\n",
       "184. 'Kingston, Surrey'\n",
       "185. 'Kingwilliamstown, Co Cork, Ireland Glens Falls, NY'\n",
       "186. 'Kingwilliamstown, Co Cork, Ireland New York, NY'\n",
       "187. 'Kontiolahti, Finland / Detroit, MI'\n",
       "188. 'Krakoryd, Sweden Bloomington, IL'\n",
       "189. 'Krakudden, Sweden Moune, IL'\n",
       "190. 'Lake Arthur, Chavez County, NM'\n",
       "191. 'Lakewood, NJ'\n",
       "192. 'Lexington, MA'\n",
       "193. 'Lima, Peru'\n",
       "194. 'Little Onn Hall, Staffs'\n",
       "195. 'Liverpool'\n",
       "196. 'Liverpool / Montreal, PQ'\n",
       "197. 'Liverpool, England / Belfast'\n",
       "198. 'Liverpool, England Bedford, OH'\n",
       "199. 'London'\n",
       "200. <span style=white-space:pre-wrap>'London  Vancouver, BC'</span>\n",
       "201. <span style=white-space:pre-wrap>'London /  East Orange, NJ'</span>\n",
       "202. 'London / Birmingham'\n",
       "203. 'London / Chicago, IL'\n",
       "204. 'London / Fort Byron, NY'\n",
       "205. 'London / Middlesex'\n",
       "206. 'London / Montreal, PQ'\n",
       "207. 'London / New York, NY'\n",
       "208. 'London / Paris'\n",
       "209. 'London / Staten Island, NY'\n",
       "210. 'London / Winnipeg, MB'\n",
       "211. 'London Brooklyn, NY'\n",
       "212. 'London New York, NY'\n",
       "213. 'London Skanteales, NY'\n",
       "214. 'London, England'\n",
       "215. 'London, England / Marietta, Ohio and Milwaukee, WI'\n",
       "216. 'London, England Norfolk, VA'\n",
       "217. 'Los Angeles, CA'\n",
       "218. 'Lower Clapton, Middlesex or Erdington, Birmingham'\n",
       "219. 'Lucca, Italy / California'\n",
       "220. 'Lyndhurst, England'\n",
       "221. 'Madrid, Spain'\n",
       "222. 'Mamaroneck, NY'\n",
       "223. 'Manchester, England'\n",
       "224. 'Medeltorp, Sweden Chicago, IL'\n",
       "225. 'Merrill, WI'\n",
       "226. 'Mexico City, Mexico'\n",
       "227. 'Middleburg Heights, OH'\n",
       "228. 'Milford, NH'\n",
       "229. 'Milwaukee, WI'\n",
       "230. 'Minneapolis, MN'\n",
       "231. 'Montevideo, Uruguay'\n",
       "232. 'Montreal, PQ'\n",
       "233. 'Montreal, PQ / Chesterville, ON'\n",
       "234. 'Moscow / Bronx, NY'\n",
       "235. 'Mt Airy, Philadelphia, PA'\n",
       "236. 'Myren, Sweden New York, NY'\n",
       "237. 'New Britain, CT'\n",
       "238. 'New Forest, England'\n",
       "239. 'New York, NY'\n",
       "240. <span style=white-space:pre-wrap>'New York, NY /  Stamford CT'</span>\n",
       "241. 'New York, NY / Briarcliff Manor NY'\n",
       "242. 'New York, NY / Greenwich CT'\n",
       "243. 'New York, NY / Ithaca, NY'\n",
       "244. 'New York, NY / Washington, DC'\n",
       "245. 'Newark, NJ'\n",
       "246. 'Nice, France'\n",
       "247. 'Norrlot, Sweden Chicago, IL'\n",
       "248. 'North Evington, England'\n",
       "249. 'Norway Los Angeles, CA'\n",
       "250. 'Norwich / New York, NY'\n",
       "251. 'Omaha, NE'\n",
       "252. 'Oskarshamn, Sweden Minneapolis, MN'\n",
       "253. 'Oslo, Norway Bayonne, NJ'\n",
       "254. 'Oslo, Norway Cameron, WI'\n",
       "255. 'Ottawa, ON'\n",
       "256. 'Paris'\n",
       "257. <span style=white-space:pre-wrap>'Paris /  New York, NY'</span>\n",
       "258. 'Paris / Haiti'\n",
       "259. 'Paris / Montreal, PQ'\n",
       "260. 'Paris, France'\n",
       "261. 'Paris, France / New York, NY'\n",
       "262. 'Paris, France New York, NY'\n",
       "263. 'Pennsylvania'\n",
       "264. 'Penzance, Cornwall / Akron, OH'\n",
       "265. 'Perkins County, SD'\n",
       "266. 'Petworth, Sussex'\n",
       "267. 'Philadelphia, PA'\n",
       "268. 'Plymouth, Devon / Detroit, MI'\n",
       "269. 'Plymouth, Dorset / Houghton, MI'\n",
       "270. 'Plymouth, England'\n",
       "271. 'Pomeroy, WA'\n",
       "272. 'Pondersend, England / New Durham, NJ'\n",
       "273. 'Portland, OR'\n",
       "274. 'Portugal'\n",
       "275. 'Portugal / Sau Paulo, Brazil'\n",
       "276. 'Providence, RI'\n",
       "277. 'Provo, UT'\n",
       "278. 'Roachdale, IN'\n",
       "279. 'Rochester, NY'\n",
       "280. 'Rotherfield, Sussex, England Essex Co, MA'\n",
       "281. 'Rotterdam, Netherlands'\n",
       "282. 'Ruotsinphyhtaa, Finland New York, NY'\n",
       "283. 'Ruotsinphytaa, Finland New York, NY'\n",
       "284. 'Russia'\n",
       "285. 'Russia New York, NY'\n",
       "286. 'Salo, Finland Astoria, OR'\n",
       "287. 'San Francisco, CA'\n",
       "288. 'Sarnia, ON'\n",
       "289. 'Sault St Marie, ON'\n",
       "290. 'Scituate, MA'\n",
       "291. 'Seattle, WA'\n",
       "292. 'Seattle, WA / Toledo, OH'\n",
       "293. 'Sittingbourne, England / San Diego, CA'\n",
       "294. 'Skara, Sweden / Rockford, IL'\n",
       "295. 'Somerset / Bernardsville, NJ'\n",
       "296. 'Southampton'\n",
       "297. 'Southampton / New York, NY'\n",
       "298. 'Southington / Noank, CT'\n",
       "299. 'Southsea, Hants'\n",
       "300. 'Spain'\n",
       "301. 'Spain / Havana, Cuba'\n",
       "302. 'Springfield, MA'\n",
       "303. 'St Andrews, Guernsey'\n",
       "304. 'St Anne\\'s-on-Sea, Lancashire'\n",
       "305. 'St Austall, Cornwall'\n",
       "306. 'St Denys, Southampton, Hants'\n",
       "307. 'St Ives, Cornwall / Calumet, MI'\n",
       "308. 'St Ives, Cornwall / Hancock, MI'\n",
       "309. 'St Ives, Cornwall / Houghton, MI'\n",
       "310. 'St James, Long Island, NY'\n",
       "311. 'St Leonards-on-Sea, England Ohio'\n",
       "312. 'St Louis, MO'\n",
       "313. 'Stanton, IA'\n",
       "314. 'Stockholm, Sweden'\n",
       "315. 'Stockholm, Sweden / Washington, DC'\n",
       "316. 'Stockholm, Sweden New York'\n",
       "317. 'Stoughton, MA'\n",
       "318. 'Streatham, Surrey'\n",
       "319. 'Strood, Kent, England Detroit, MI'\n",
       "320. 'Surbiton Hill, Surrey'\n",
       "321. <span style=white-space:pre-wrap>'Sweden  Worcester, MA'</span>\n",
       "322. 'Sweden / Arlington, NJ'\n",
       "323. 'Sweden Akeley, MN'\n",
       "324. 'Sweden Chicago, IL'\n",
       "325. 'Sweden Joliet, IL'\n",
       "326. 'Sweden Winnipeg, MN'\n",
       "327. 'Sweden Worcester, MA'\n",
       "328. 'Swindon, England'\n",
       "329. 'Sydney, Australia'\n",
       "330. 'Syria'\n",
       "331. 'Syria Fredericksburg, VA'\n",
       "332. 'Syria Kent, ON'\n",
       "333. 'Syria New York, NY'\n",
       "334. 'Syria Ottawa, ON'\n",
       "335. 'Syria Youngstown, OH'\n",
       "336. 'Taalintehdas, Finland Hoboken, NJ'\n",
       "337. 'Tampico, MT'\n",
       "338. 'Tofta, Sweden Joliet, IL'\n",
       "339. 'Tokyo, Japan'\n",
       "340. 'Toronto, ON'\n",
       "341. 'Tranvik, Finland New York'\n",
       "342. 'Treherbert, Cardiff, Wales'\n",
       "343. 'Trenton, NJ'\n",
       "344. 'Tuxedo Park, NY'\n",
       "345. 'Union Hill, NJ'\n",
       "346. 'Upper Burma, India Pittsburgh, PA'\n",
       "347. 'Vadsbro, Sweden Ministee, MI'\n",
       "348. 'Vancouver, BC'\n",
       "349. 'Victoria, BC'\n",
       "350. 'Walthamstow, England'\n",
       "351. 'Warwick, England'\n",
       "352. 'Washington, DC'\n",
       "353. 'Waukegan, Chicago, IL'\n",
       "354. 'West Bromwich, England Pontiac, MI'\n",
       "355. 'West Hampstead, London / Neepawa, MB'\n",
       "356. 'West Haven, CT'\n",
       "357. 'West Hoboken, NJ'\n",
       "358. 'West Kensington, London'\n",
       "359. 'Westcliff-on-Sea, Essex'\n",
       "360. 'Weston-Super-Mare / Moose Jaw, SK'\n",
       "361. 'Weston-Super-Mare, Somerset'\n",
       "362. 'Wiltshire, England Niagara Falls, NY'\n",
       "363. 'Wimbledon Park, London / Hayling Island, Hants'\n",
       "364. 'Windsor, England New York, NY'\n",
       "365. 'Winnipeg, MB'\n",
       "366. 'Winnipeg, MN'\n",
       "367. 'Woodford County, KY'\n",
       "368. 'Worcester, England'\n",
       "369. 'Worcester, MA'\n",
       "370. 'Yoevil, England / Cottage Grove, OR'\n",
       "371. 'Youngstown, OH'\n",
       "372. 'Zurich, Switzerland'\n",
       "\n",
       "\n"
      ],
      "text/plain": [
       "[1] Duluth, MN Duluth, MN\n",
       "372 Levels:  ?Havana, Cuba Aberdeen / Portland, OR ... Zurich, Switzerland"
      ]
     },
     "metadata": {},
     "output_type": "display_data"
    }
   ],
   "source": [
    "Silvey = substr(data$name,1,6)=='Silvey' # Silvey est le nom de famille (colonne 1 de Name et comporte 6 caractères)\n",
    "data$home.dest[Silvey]"
   ]
  },
  {
   "cell_type": "markdown",
   "metadata": {},
   "source": [
    "Ont-ils pu s'y rendre (i.e survécu) ?"
   ]
  },
  {
   "cell_type": "code",
   "execution_count": 75,
   "metadata": {},
   "outputs": [
    {
     "data": {
      "text/html": [
       "<ol class=list-inline>\n",
       "\t<li>0</li>\n",
       "\t<li>1</li>\n",
       "</ol>\n"
      ],
      "text/latex": [
       "\\begin{enumerate*}\n",
       "\\item 0\n",
       "\\item 1\n",
       "\\end{enumerate*}\n"
      ],
      "text/markdown": [
       "1. 0\n",
       "2. 1\n",
       "\n",
       "\n"
      ],
      "text/plain": [
       "[1] 0 1"
      ]
     },
     "metadata": {},
     "output_type": "display_data"
    },
    {
     "data": {
      "text/html": [
       "FALSE"
      ],
      "text/latex": [
       "FALSE"
      ],
      "text/markdown": [
       "FALSE"
      ],
      "text/plain": [
       "[1] FALSE"
      ]
     },
     "metadata": {},
     "output_type": "display_data"
    }
   ],
   "source": [
    "data$survive[Silvey] \n",
    "sum(data$survive[Silvey])==length(Silvey)"
   ]
  },
  {
   "cell_type": "markdown",
   "metadata": {},
   "source": [
    "Un seul des deux a survécu."
   ]
  },
  {
   "cell_type": "markdown",
   "metadata": {},
   "source": [
    "**Question 16 :** Proportion des survivants des gens étant monté dans les canots de sauvetage"
   ]
  },
  {
   "cell_type": "code",
   "execution_count": 108,
   "metadata": {},
   "outputs": [
    {
     "data": {
      "text/html": [
       "'La proportion des passagers montés dans les canaux survivants est de : 0.772334293948127'"
      ],
      "text/latex": [
       "'La proportion des passagers montés dans les canaux survivants est de : 0.772334293948127'"
      ],
      "text/markdown": [
       "'La proportion des passagers montés dans les canaux survivants est de : 0.772334293948127'"
      ],
      "text/plain": [
       "[1] \"La proportion des passagers montés dans les canaux survivants est de : 0.772334293948127\""
      ]
     },
     "metadata": {},
     "output_type": "display_data"
    }
   ],
   "source": [
    "canots = data[data$boat!=\"\",]\n",
    "passagers_canots = nrow(canots)\n",
    "survivant_canots = sum(canots$survived)\n",
    "paste('La proportion des passagers montés dans les canaux survivants est de :', survivant_canots/passagers_canots)"
   ]
  },
  {
   "cell_type": "markdown",
   "metadata": {},
   "source": [
    "Intervalle de confiance de chance de survivre à une telle catastrophe en montant dans les canots :"
   ]
  },
  {
   "cell_type": "code",
   "execution_count": 102,
   "metadata": {},
   "outputs": [
    {
     "data": {
      "text/html": [
       "'La proportion de survivants apprtendrait dans lintervalle de confiance à 90% suivant :'"
      ],
      "text/latex": [
       "'La proportion de survivants apprtendrait dans lintervalle de confiance à 90\\% suivant :'"
      ],
      "text/markdown": [
       "'La proportion de survivants apprtendrait dans lintervalle de confiance à 90% suivant :'"
      ],
      "text/plain": [
       "[1] \"La proportion de survivants apprtendrait dans lintervalle de confiance à 90% suivant :\""
      ]
     },
     "metadata": {},
     "output_type": "display_data"
    },
    {
     "data": {
      "text/html": [
       "<ol class=list-inline>\n",
       "\t<li>0.735307680915954</li>\n",
       "\t<li>0.809360906980299</li>\n",
       "</ol>\n"
      ],
      "text/latex": [
       "\\begin{enumerate*}\n",
       "\\item 0.735307680915954\n",
       "\\item 0.809360906980299\n",
       "\\end{enumerate*}\n"
      ],
      "text/markdown": [
       "1. 0.735307680915954\n",
       "2. 0.809360906980299\n",
       "\n",
       "\n"
      ],
      "text/plain": [
       "[1] 0.7353077 0.8093609"
      ]
     },
     "metadata": {},
     "output_type": "display_data"
    }
   ],
   "source": [
    "alpha = 0.10\n",
    "u = qnorm(1-alpha/2)\n",
    "p_canots = survivant_canots/passagers_canots\n",
    "IC_canots = c(p_canots - u*sqrt(p_canots*(1-p_canots)/passagers_canots) , p_canots + u*sqrt(p_canots*(1-p_canots)/passagers_canots) );\n",
    "paste('La proportion de survivants apprtendrait dans lintervalle de confiance à 90% suivant :')\n",
    "IC_canots"
   ]
  },
  {
   "cell_type": "markdown",
   "metadata": {},
   "source": [
    "**Question 17 :** Généralisation aux paquebots de l'époque de la répartition des passagers dans les différentes classes :\n",
    "Proposer un diagramme en camembert de la repartition des passagers en fonction de la classe d'embarquement (cf. Question 3).\n",
    "Construire trois tableaux correspondant aux trois classes.\n",
    "Calculer les proportions de survivants dans chacune des classes.\n",
    "Utiliser la formule utilisee precedemment pour calculer l'intervalle de confiance de la proportion de survivants pour chacune des trois classes."
   ]
  },
  {
   "cell_type": "code",
   "execution_count": 112,
   "metadata": {},
   "outputs": [],
   "source": [
    "titanic_C1 = data[data$pclass==levels(data$pclass)[1],]\n",
    "titanic_C2 = data[data$pclass==levels(data$pclass)[2],]\n",
    "titanic_C3 = data[data$pclass==levels(data$pclass)[3],]\n",
    "\n",
    "p_C1 = sum(titanic_C1$survived==1)/nrow(titanic_C1)\n",
    "p_C2 = sum(titanic_C2$survived==1)/nrow(titanic_C2)\n",
    "p_C3 = sum(titanic_C3$survived==1)/nrow(titanic_C3)\n",
    "\n",
    "alpha = 0.05\n",
    "u = qnorm(1-alpha/2)\n",
    "IC_C1 = c(p_C1 - u*sqrt(p_C1*(1-p_C1)/nrow(titanic_C1)) , p_canots + u*sqrt(p_C1*(1-p_C1)/nrow(titanic_C1)))\n",
    "IC_C2 = c(p_C2 - u*sqrt(p_C2*(1-p_C2)/nrow(titanic_C2)) , p_canots + u*sqrt(p_C2*(1-p_C2)/nrow(titanic_C2)))\n",
    "IC_C3 = c(p_C3 - u*sqrt(p_C3*(1-p_C3)/nrow(titanic_C3)) , p_canots + u*sqrt(p_C3*(1-p_C3)/nrow(titanic_C3)))"
   ]
  },
  {
   "cell_type": "code",
   "execution_count": 116,
   "metadata": {},
   "outputs": [
    {
     "data": {
      "image/png": "[encoded data removed]",
      "text/plain": [
       "Plot with title “Proportion des survivants de chacune des trois classe (IC)”"
      ]
     },
     "metadata": {},
     "output_type": "display_data",
     "source": "R display func"
    }
   ],
   "source": [
    "boxplot(IC_C1, IC_C2, IC_C3, names = c('1ère', '2ème', '3ème'), main = 'Proportion des survivants de chacune des trois classe (IC)')"
   ]
  }
 ],
 "metadata": {
  "kernelspec": {
   "display_name": "R",
   "language": "R",
   "name": "ir"
  },
  "language_info": {
   "codemirror_mode": "r",
   "file_extension": ".r",
   "mimetype": "text/x-r-source",
   "name": "R",
   "pygments_lexer": "r",
   "version": "3.5.1"
  }
 },
 "nbformat": 4,
 "nbformat_minor": 2
}
